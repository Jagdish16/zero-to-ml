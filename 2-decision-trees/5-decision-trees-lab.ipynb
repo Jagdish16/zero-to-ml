{
 "cells": [
  {
   "cell_type": "markdown",
   "metadata": {},
   "source": [
    "## Introduction"
   ]
  },
  {
   "cell_type": "markdown",
   "metadata": {},
   "source": [
    "In this lesson, we'll work with the movies dataset.  Our target will be the amount of revenue brought in by a movie.  And of course, we'll be using decision trees to make this prediction."
   ]
  },
  {
   "cell_type": "markdown",
   "metadata": {},
   "source": [
    "### Exploring our data"
   ]
  },
  {
   "cell_type": "markdown",
   "metadata": {},
   "source": [
    "As always, we'll get started by loading up our data.  Now that data that we'll use is a [set of movie data](https://github.com/fivethirtyeight/data/tree/master/bechdel) put together by the website 538.  Because we haven't learned anything about data cleaning yet, we'll work with a cleaned up version of this data.  Time to load it up:"
   ]
  },
  {
   "cell_type": "code",
   "execution_count": 94,
   "metadata": {},
   "outputs": [
    {
     "data": {
      "text/html": [
       "<div>\n",
       "<style scoped>\n",
       "    .dataframe tbody tr th:only-of-type {\n",
       "        vertical-align: middle;\n",
       "    }\n",
       "\n",
       "    .dataframe tbody tr th {\n",
       "        vertical-align: top;\n",
       "    }\n",
       "\n",
       "    .dataframe thead th {\n",
       "        text-align: right;\n",
       "    }\n",
       "</style>\n",
       "<table border=\"1\" class=\"dataframe\">\n",
       "  <thead>\n",
       "    <tr style=\"text-align: right;\">\n",
       "      <th></th>\n",
       "      <th>title</th>\n",
       "      <th>genre</th>\n",
       "      <th>runtime</th>\n",
       "      <th>year</th>\n",
       "      <th>month</th>\n",
       "      <th>revenue</th>\n",
       "    </tr>\n",
       "  </thead>\n",
       "  <tbody>\n",
       "    <tr>\n",
       "      <td>0</td>\n",
       "      <td>Avatar</td>\n",
       "      <td>Action</td>\n",
       "      <td>162.0</td>\n",
       "      <td>2009</td>\n",
       "      <td>12</td>\n",
       "      <td>2787965087</td>\n",
       "    </tr>\n",
       "    <tr>\n",
       "      <td>1</td>\n",
       "      <td>Pirates of the Caribbean: At World's End</td>\n",
       "      <td>Adventure</td>\n",
       "      <td>169.0</td>\n",
       "      <td>2007</td>\n",
       "      <td>5</td>\n",
       "      <td>961000000</td>\n",
       "    </tr>\n",
       "    <tr>\n",
       "      <td>2</td>\n",
       "      <td>Spectre</td>\n",
       "      <td>Action</td>\n",
       "      <td>148.0</td>\n",
       "      <td>2015</td>\n",
       "      <td>10</td>\n",
       "      <td>880674609</td>\n",
       "    </tr>\n",
       "    <tr>\n",
       "      <td>3</td>\n",
       "      <td>The Dark Knight Rises</td>\n",
       "      <td>Action</td>\n",
       "      <td>165.0</td>\n",
       "      <td>2012</td>\n",
       "      <td>7</td>\n",
       "      <td>1084939099</td>\n",
       "    </tr>\n",
       "    <tr>\n",
       "      <td>4</td>\n",
       "      <td>John Carter</td>\n",
       "      <td>Action</td>\n",
       "      <td>132.0</td>\n",
       "      <td>2012</td>\n",
       "      <td>3</td>\n",
       "      <td>284139100</td>\n",
       "    </tr>\n",
       "  </tbody>\n",
       "</table>\n",
       "</div>"
      ],
      "text/plain": [
       "                                      title      genre  runtime  year  month  \\\n",
       "0                                    Avatar     Action    162.0  2009     12   \n",
       "1  Pirates of the Caribbean: At World's End  Adventure    169.0  2007      5   \n",
       "2                                   Spectre     Action    148.0  2015     10   \n",
       "3                     The Dark Knight Rises     Action    165.0  2012      7   \n",
       "4                               John Carter     Action    132.0  2012      3   \n",
       "\n",
       "      revenue  \n",
       "0  2787965087  \n",
       "1   961000000  \n",
       "2   880674609  \n",
       "3  1084939099  \n",
       "4   284139100  "
      ]
     },
     "execution_count": 94,
     "metadata": {},
     "output_type": "execute_result"
    }
   ],
   "source": [
    "import pandas as pd\n",
    "df = pd.read_csv('./imdb_movies.csv', index_col = 0)\n",
    "df = df.drop(columns = ['budget'])\n",
    "df[:5]"
   ]
  },
  {
   "cell_type": "markdown",
   "metadata": {},
   "source": [
    "Now in the data above, we'll be using `genre`, `budget`, `runtime`, `year`, and `month` as our feature columns, and `revenue` as the target that we are trying to predict.  We won't use `title` at all in our model, but it's nice to have.\n",
    "\n",
    "Now this data is a little bit different than our previous data.  We see that our revenue data is continuous.  Believe it or not, we can train a decision tree on this type of data as well.  We'll talk about some of the differences with continuous data as a bonus in the next lesson.\n",
    "\n",
    "But for now, let's move ahead with sklearn.  "
   ]
  },
  {
   "cell_type": "markdown",
   "metadata": {},
   "source": [
    "### Follow the steps"
   ]
  },
  {
   "cell_type": "markdown",
   "metadata": {},
   "source": [
    "Remember that all data in our model must be a number.  We'll turn the give each genre a corresponding number, with the following."
   ]
  },
  {
   "cell_type": "code",
   "execution_count": 95,
   "metadata": {},
   "outputs": [],
   "source": [
    "df['genre'] = df.genre.astype('category')"
   ]
  },
  {
   "cell_type": "markdown",
   "metadata": {},
   "source": [
    "> Don't worry, you'll be learning all about how to do that in a future lesson."
   ]
  },
  {
   "cell_type": "markdown",
   "metadata": {},
   "source": [
    "Next we separate our data into our features, and our target."
   ]
  },
  {
   "cell_type": "code",
   "execution_count": 56,
   "metadata": {},
   "outputs": [],
   "source": [
    "X = df[['genre', 'runtime', 'year', 'month']]\n",
    "y = df['revenue']"
   ]
  },
  {
   "cell_type": "markdown",
   "metadata": {},
   "source": [
    "Now it's time for you to do some of the work.\n",
    "\n",
    "Remember the steps of training our decision tree.  We first import the correct model (we do this for you)."
   ]
  },
  {
   "cell_type": "code",
   "execution_count": 61,
   "metadata": {},
   "outputs": [],
   "source": [
    "from sklearn.tree import DecisionTreeRegressor"
   ]
  },
  {
   "cell_type": "markdown",
   "metadata": {},
   "source": [
    "> Ok, now we use a `DecisionTreeRegressor` (as opposed to a DecisionTreeClassifier) because the revenue data is not just a $1$ or $0$, but potentially any value greater than 0.  When our data can be any value in a specified range, it's called continuous - and with continuous data we use the regressor."
   ]
  },
  {
   "cell_type": "markdown",
   "metadata": {},
   "source": [
    "Now follow the steps training a model.  First initialize our `DecisionTreeRegressor` and assign it to model."
   ]
  },
  {
   "cell_type": "code",
   "execution_count": 62,
   "metadata": {},
   "outputs": [],
   "source": [
    "model = DecisionTreeRegressor()"
   ]
  },
  {
   "cell_type": "markdown",
   "metadata": {},
   "source": [
    "Then train the model, with the `fit` method."
   ]
  },
  {
   "cell_type": "code",
   "execution_count": 63,
   "metadata": {},
   "outputs": [
    {
     "data": {
      "text/plain": [
       "DecisionTreeRegressor(criterion='mse', max_depth=None, max_features=None,\n",
       "                      max_leaf_nodes=None, min_impurity_decrease=0.0,\n",
       "                      min_impurity_split=None, min_samples_leaf=1,\n",
       "                      min_samples_split=2, min_weight_fraction_leaf=0.0,\n",
       "                      presort=False, random_state=None, splitter='best')"
      ]
     },
     "execution_count": 63,
     "metadata": {},
     "output_type": "execute_result"
    }
   ],
   "source": [
    "model.fit(X, y)"
   ]
  },
  {
   "cell_type": "markdown",
   "metadata": {},
   "source": [
    "And finally, we can make a prediction, by passing through the features of an observation."
   ]
  },
  {
   "cell_type": "code",
   "execution_count": 64,
   "metadata": {},
   "outputs": [
    {
     "data": {
      "text/plain": [
       "array([2.78796509e+09])"
      ]
     },
     "execution_count": 64,
     "metadata": {},
     "output_type": "execute_result"
    }
   ],
   "source": [
    "observation = X[:1]\n",
    "\n",
    "model.predict(observation)"
   ]
  },
  {
   "cell_type": "markdown",
   "metadata": {},
   "source": [
    "We can also see the hypothesis function for our "
   ]
  },
  {
   "cell_type": "code",
   "execution_count": 65,
   "metadata": {},
   "outputs": [
    {
     "data": {
      "image/svg+xml": [
       "<?xml version=\"1.0\" encoding=\"UTF-8\" standalone=\"no\"?>\n",
       "<!DOCTYPE svg PUBLIC \"-//W3C//DTD SVG 1.1//EN\"\n",
       " \"http://www.w3.org/Graphics/SVG/1.1/DTD/svg11.dtd\">\n",
       "<!-- Generated by graphviz version 2.43.0 (0)\n",
       " -->\n",
       "<!-- Title: Tree Pages: 1 -->\n",
       "<svg width=\"850pt\" height=\"344pt\"\n",
       " viewBox=\"0.00 0.00 850.30 344.00\" xmlns=\"http://www.w3.org/2000/svg\" xmlns:xlink=\"http://www.w3.org/1999/xlink\">\n",
       "<g id=\"graph0\" class=\"graph\" transform=\"scale(1 1) rotate(0) translate(4 340)\">\n",
       "<title>Tree</title>\n",
       "<polygon fill=\"white\" stroke=\"transparent\" points=\"-4,4 -4,-340 846.3,-340 846.3,4 -4,4\"/>\n",
       "<!-- 0 -->\n",
       "<g id=\"node1\" class=\"node\">\n",
       "<title>0</title>\n",
       "<polygon fill=\"none\" stroke=\"black\" points=\"521.08,-336 323.97,-336 323.97,-272 521.08,-272 521.08,-336\"/>\n",
       "<text text-anchor=\"middle\" x=\"422.53\" y=\"-320.8\" font-family=\"Times,serif\" font-size=\"14.00\">runtime &lt;= 140.5</text>\n",
       "<text text-anchor=\"middle\" x=\"422.53\" y=\"-306.8\" font-family=\"Times,serif\" font-size=\"14.00\">mse = 4.779774067198597e+16</text>\n",
       "<text text-anchor=\"middle\" x=\"422.53\" y=\"-292.8\" font-family=\"Times,serif\" font-size=\"14.00\">samples = 2000</text>\n",
       "<text text-anchor=\"middle\" x=\"422.53\" y=\"-278.8\" font-family=\"Times,serif\" font-size=\"14.00\">value = 164350612.606</text>\n",
       "</g>\n",
       "<!-- 1 -->\n",
       "<g id=\"node2\" class=\"node\">\n",
       "<title>1</title>\n",
       "<polygon fill=\"none\" stroke=\"black\" points=\"412.08,-236 214.97,-236 214.97,-172 412.08,-172 412.08,-236\"/>\n",
       "<text text-anchor=\"middle\" x=\"313.53\" y=\"-220.8\" font-family=\"Times,serif\" font-size=\"14.00\">genre &lt;= 2.5</text>\n",
       "<text text-anchor=\"middle\" x=\"313.53\" y=\"-206.8\" font-family=\"Times,serif\" font-size=\"14.00\">mse = 3.253693518582003e+16</text>\n",
       "<text text-anchor=\"middle\" x=\"313.53\" y=\"-192.8\" font-family=\"Times,serif\" font-size=\"14.00\">samples = 1823</text>\n",
       "<text text-anchor=\"middle\" x=\"313.53\" y=\"-178.8\" font-family=\"Times,serif\" font-size=\"14.00\">value = 145596396.235</text>\n",
       "</g>\n",
       "<!-- 0&#45;&gt;1 -->\n",
       "<g id=\"edge1\" class=\"edge\">\n",
       "<title>0&#45;&gt;1</title>\n",
       "<path fill=\"none\" stroke=\"black\" d=\"M388.04,-271.99C377.8,-262.79 366.47,-252.6 355.8,-243\"/>\n",
       "<polygon fill=\"black\" stroke=\"black\" points=\"357.94,-240.23 348.17,-236.14 353.26,-245.43 357.94,-240.23\"/>\n",
       "<text text-anchor=\"middle\" x=\"349.49\" y=\"-256.91\" font-family=\"Times,serif\" font-size=\"14.00\">True</text>\n",
       "</g>\n",
       "<!-- 3540 -->\n",
       "<g id=\"node9\" class=\"node\">\n",
       "<title>3540</title>\n",
       "<polygon fill=\"none\" stroke=\"black\" points=\"634.58,-236 430.47,-236 430.47,-172 634.58,-172 634.58,-236\"/>\n",
       "<text text-anchor=\"middle\" x=\"532.53\" y=\"-220.8\" font-family=\"Times,serif\" font-size=\"14.00\">genre &lt;= 2.0</text>\n",
       "<text text-anchor=\"middle\" x=\"532.53\" y=\"-206.8\" font-family=\"Times,serif\" font-size=\"14.00\">mse = 1.6404294300162022e+17</text>\n",
       "<text text-anchor=\"middle\" x=\"532.53\" y=\"-192.8\" font-family=\"Times,serif\" font-size=\"14.00\">samples = 177</text>\n",
       "<text text-anchor=\"middle\" x=\"532.53\" y=\"-178.8\" font-family=\"Times,serif\" font-size=\"14.00\">value = 357508445.633</text>\n",
       "</g>\n",
       "<!-- 0&#45;&gt;3540 -->\n",
       "<g id=\"edge8\" class=\"edge\">\n",
       "<title>0&#45;&gt;3540</title>\n",
       "<path fill=\"none\" stroke=\"black\" d=\"M457.33,-271.99C467.67,-262.79 479.1,-252.6 489.87,-243\"/>\n",
       "<polygon fill=\"black\" stroke=\"black\" points=\"492.43,-245.41 497.57,-236.14 487.78,-240.18 492.43,-245.41\"/>\n",
       "<text text-anchor=\"middle\" x=\"496.13\" y=\"-256.9\" font-family=\"Times,serif\" font-size=\"14.00\">False</text>\n",
       "</g>\n",
       "<!-- 2 -->\n",
       "<g id=\"node3\" class=\"node\">\n",
       "<title>2</title>\n",
       "<polygon fill=\"none\" stroke=\"black\" points=\"197.08,-136 -0.03,-136 -0.03,-72 197.08,-72 197.08,-136\"/>\n",
       "<text text-anchor=\"middle\" x=\"98.53\" y=\"-120.8\" font-family=\"Times,serif\" font-size=\"14.00\">year &lt;= 2009.5</text>\n",
       "<text text-anchor=\"middle\" x=\"98.53\" y=\"-106.8\" font-family=\"Times,serif\" font-size=\"14.00\">mse = 4.899809427836474e+16</text>\n",
       "<text text-anchor=\"middle\" x=\"98.53\" y=\"-92.8\" font-family=\"Times,serif\" font-size=\"14.00\">samples = 824</text>\n",
       "<text text-anchor=\"middle\" x=\"98.53\" y=\"-78.8\" font-family=\"Times,serif\" font-size=\"14.00\">value = 189845853.886</text>\n",
       "</g>\n",
       "<!-- 1&#45;&gt;2 -->\n",
       "<g id=\"edge2\" class=\"edge\">\n",
       "<title>1&#45;&gt;2</title>\n",
       "<path fill=\"none\" stroke=\"black\" d=\"M245.5,-171.99C223.44,-161.94 198.81,-150.71 176.11,-140.36\"/>\n",
       "<polygon fill=\"black\" stroke=\"black\" points=\"177.4,-137.11 166.85,-136.14 174.5,-143.47 177.4,-137.11\"/>\n",
       "</g>\n",
       "<!-- 1621 -->\n",
       "<g id=\"node6\" class=\"node\">\n",
       "<title>1621</title>\n",
       "<polygon fill=\"none\" stroke=\"black\" points=\"412.08,-136 214.97,-136 214.97,-72 412.08,-72 412.08,-136\"/>\n",
       "<text text-anchor=\"middle\" x=\"313.53\" y=\"-120.8\" font-family=\"Times,serif\" font-size=\"14.00\">genre &lt;= 5.5</text>\n",
       "<text text-anchor=\"middle\" x=\"313.53\" y=\"-106.8\" font-family=\"Times,serif\" font-size=\"14.00\">mse = 1.601223581377087e+16</text>\n",
       "<text text-anchor=\"middle\" x=\"313.53\" y=\"-92.8\" font-family=\"Times,serif\" font-size=\"14.00\">samples = 999</text>\n",
       "<text text-anchor=\"middle\" x=\"313.53\" y=\"-78.8\" font-family=\"Times,serif\" font-size=\"14.00\">value = 109098345.079</text>\n",
       "</g>\n",
       "<!-- 1&#45;&gt;1621 -->\n",
       "<g id=\"edge5\" class=\"edge\">\n",
       "<title>1&#45;&gt;1621</title>\n",
       "<path fill=\"none\" stroke=\"black\" d=\"M313.53,-171.99C313.53,-163.86 313.53,-154.96 313.53,-146.38\"/>\n",
       "<polygon fill=\"black\" stroke=\"black\" points=\"317.03,-146.14 313.53,-136.14 310.03,-146.14 317.03,-146.14\"/>\n",
       "</g>\n",
       "<!-- 3 -->\n",
       "<g id=\"node4\" class=\"node\">\n",
       "<title>3</title>\n",
       "<polygon fill=\"none\" stroke=\"black\" points=\"89.53,-36 35.53,-36 35.53,0 89.53,0 89.53,-36\"/>\n",
       "<text text-anchor=\"middle\" x=\"62.53\" y=\"-13.8\" font-family=\"Times,serif\" font-size=\"14.00\">(...)</text>\n",
       "</g>\n",
       "<!-- 2&#45;&gt;3 -->\n",
       "<g id=\"edge3\" class=\"edge\">\n",
       "<title>2&#45;&gt;3</title>\n",
       "<path fill=\"none\" stroke=\"black\" d=\"M85.12,-71.72C81.44,-63.14 77.49,-53.92 73.94,-45.62\"/>\n",
       "<polygon fill=\"black\" stroke=\"black\" points=\"77.14,-44.22 69.99,-36.4 70.71,-46.98 77.14,-44.22\"/>\n",
       "</g>\n",
       "<!-- 1100 -->\n",
       "<g id=\"node5\" class=\"node\">\n",
       "<title>1100</title>\n",
       "<polygon fill=\"none\" stroke=\"black\" points=\"161.53,-36 107.53,-36 107.53,0 161.53,0 161.53,-36\"/>\n",
       "<text text-anchor=\"middle\" x=\"134.53\" y=\"-13.8\" font-family=\"Times,serif\" font-size=\"14.00\">(...)</text>\n",
       "</g>\n",
       "<!-- 2&#45;&gt;1100 -->\n",
       "<g id=\"edge4\" class=\"edge\">\n",
       "<title>2&#45;&gt;1100</title>\n",
       "<path fill=\"none\" stroke=\"black\" d=\"M111.93,-71.72C115.61,-63.14 119.56,-53.92 123.12,-45.62\"/>\n",
       "<polygon fill=\"black\" stroke=\"black\" points=\"126.35,-46.98 127.07,-36.4 119.91,-44.22 126.35,-46.98\"/>\n",
       "</g>\n",
       "<!-- 1622 -->\n",
       "<g id=\"node7\" class=\"node\">\n",
       "<title>1622</title>\n",
       "<polygon fill=\"none\" stroke=\"black\" points=\"304.53,-36 250.53,-36 250.53,0 304.53,0 304.53,-36\"/>\n",
       "<text text-anchor=\"middle\" x=\"277.53\" y=\"-13.8\" font-family=\"Times,serif\" font-size=\"14.00\">(...)</text>\n",
       "</g>\n",
       "<!-- 1621&#45;&gt;1622 -->\n",
       "<g id=\"edge6\" class=\"edge\">\n",
       "<title>1621&#45;&gt;1622</title>\n",
       "<path fill=\"none\" stroke=\"black\" d=\"M300.12,-71.72C296.44,-63.14 292.49,-53.92 288.94,-45.62\"/>\n",
       "<polygon fill=\"black\" stroke=\"black\" points=\"292.14,-44.22 284.99,-36.4 285.71,-46.98 292.14,-44.22\"/>\n",
       "</g>\n",
       "<!-- 2975 -->\n",
       "<g id=\"node8\" class=\"node\">\n",
       "<title>2975</title>\n",
       "<polygon fill=\"none\" stroke=\"black\" points=\"376.53,-36 322.53,-36 322.53,0 376.53,0 376.53,-36\"/>\n",
       "<text text-anchor=\"middle\" x=\"349.53\" y=\"-13.8\" font-family=\"Times,serif\" font-size=\"14.00\">(...)</text>\n",
       "</g>\n",
       "<!-- 1621&#45;&gt;2975 -->\n",
       "<g id=\"edge7\" class=\"edge\">\n",
       "<title>1621&#45;&gt;2975</title>\n",
       "<path fill=\"none\" stroke=\"black\" d=\"M326.93,-71.72C330.61,-63.14 334.56,-53.92 338.12,-45.62\"/>\n",
       "<polygon fill=\"black\" stroke=\"black\" points=\"341.35,-46.98 342.07,-36.4 334.91,-44.22 341.35,-46.98\"/>\n",
       "</g>\n",
       "<!-- 3541 -->\n",
       "<g id=\"node10\" class=\"node\">\n",
       "<title>3541</title>\n",
       "<polygon fill=\"none\" stroke=\"black\" points=\"634.58,-136 430.47,-136 430.47,-72 634.58,-72 634.58,-136\"/>\n",
       "<text text-anchor=\"middle\" x=\"532.53\" y=\"-120.8\" font-family=\"Times,serif\" font-size=\"14.00\">year &lt;= 2000.5</text>\n",
       "<text text-anchor=\"middle\" x=\"532.53\" y=\"-106.8\" font-family=\"Times,serif\" font-size=\"14.00\">mse = 2.0772808544931462e+17</text>\n",
       "<text text-anchor=\"middle\" x=\"532.53\" y=\"-92.8\" font-family=\"Times,serif\" font-size=\"14.00\">samples = 72</text>\n",
       "<text text-anchor=\"middle\" x=\"532.53\" y=\"-78.8\" font-family=\"Times,serif\" font-size=\"14.00\">value = 562552972.819</text>\n",
       "</g>\n",
       "<!-- 3540&#45;&gt;3541 -->\n",
       "<g id=\"edge9\" class=\"edge\">\n",
       "<title>3540&#45;&gt;3541</title>\n",
       "<path fill=\"none\" stroke=\"black\" d=\"M532.53,-171.99C532.53,-163.86 532.53,-154.96 532.53,-146.38\"/>\n",
       "<polygon fill=\"black\" stroke=\"black\" points=\"536.03,-146.14 532.53,-136.14 529.03,-146.14 536.03,-146.14\"/>\n",
       "</g>\n",
       "<!-- 3682 -->\n",
       "<g id=\"node13\" class=\"node\">\n",
       "<title>3682</title>\n",
       "<polygon fill=\"none\" stroke=\"black\" points=\"842.07,-136 652.98,-136 652.98,-72 842.07,-72 842.07,-136\"/>\n",
       "<text text-anchor=\"middle\" x=\"747.53\" y=\"-120.8\" font-family=\"Times,serif\" font-size=\"14.00\">genre &lt;= 8.5</text>\n",
       "<text text-anchor=\"middle\" x=\"747.53\" y=\"-106.8\" font-family=\"Times,serif\" font-size=\"14.00\">mse = 8.54888424571121e+16</text>\n",
       "<text text-anchor=\"middle\" x=\"747.53\" y=\"-92.8\" font-family=\"Times,serif\" font-size=\"14.00\">samples = 105</text>\n",
       "<text text-anchor=\"middle\" x=\"747.53\" y=\"-78.8\" font-family=\"Times,serif\" font-size=\"14.00\">value = 216906484.133</text>\n",
       "</g>\n",
       "<!-- 3540&#45;&gt;3682 -->\n",
       "<g id=\"edge12\" class=\"edge\">\n",
       "<title>3540&#45;&gt;3682</title>\n",
       "<path fill=\"none\" stroke=\"black\" d=\"M600.56,-171.99C622.61,-161.94 647.25,-150.71 669.95,-140.36\"/>\n",
       "<polygon fill=\"black\" stroke=\"black\" points=\"671.56,-143.47 679.21,-136.14 668.65,-137.11 671.56,-143.47\"/>\n",
       "</g>\n",
       "<!-- 3542 -->\n",
       "<g id=\"node11\" class=\"node\">\n",
       "<title>3542</title>\n",
       "<polygon fill=\"none\" stroke=\"black\" points=\"523.53,-36 469.53,-36 469.53,0 523.53,0 523.53,-36\"/>\n",
       "<text text-anchor=\"middle\" x=\"496.53\" y=\"-13.8\" font-family=\"Times,serif\" font-size=\"14.00\">(...)</text>\n",
       "</g>\n",
       "<!-- 3541&#45;&gt;3542 -->\n",
       "<g id=\"edge10\" class=\"edge\">\n",
       "<title>3541&#45;&gt;3542</title>\n",
       "<path fill=\"none\" stroke=\"black\" d=\"M519.12,-71.72C515.44,-63.14 511.49,-53.92 507.94,-45.62\"/>\n",
       "<polygon fill=\"black\" stroke=\"black\" points=\"511.14,-44.22 503.99,-36.4 504.71,-46.98 511.14,-44.22\"/>\n",
       "</g>\n",
       "<!-- 3577 -->\n",
       "<g id=\"node12\" class=\"node\">\n",
       "<title>3577</title>\n",
       "<polygon fill=\"none\" stroke=\"black\" points=\"595.53,-36 541.53,-36 541.53,0 595.53,0 595.53,-36\"/>\n",
       "<text text-anchor=\"middle\" x=\"568.53\" y=\"-13.8\" font-family=\"Times,serif\" font-size=\"14.00\">(...)</text>\n",
       "</g>\n",
       "<!-- 3541&#45;&gt;3577 -->\n",
       "<g id=\"edge11\" class=\"edge\">\n",
       "<title>3541&#45;&gt;3577</title>\n",
       "<path fill=\"none\" stroke=\"black\" d=\"M545.93,-71.72C549.61,-63.14 553.56,-53.92 557.12,-45.62\"/>\n",
       "<polygon fill=\"black\" stroke=\"black\" points=\"560.35,-46.98 561.07,-36.4 553.91,-44.22 560.35,-46.98\"/>\n",
       "</g>\n",
       "<!-- 3683 -->\n",
       "<g id=\"node14\" class=\"node\">\n",
       "<title>3683</title>\n",
       "<polygon fill=\"none\" stroke=\"black\" points=\"738.53,-36 684.53,-36 684.53,0 738.53,0 738.53,-36\"/>\n",
       "<text text-anchor=\"middle\" x=\"711.53\" y=\"-13.8\" font-family=\"Times,serif\" font-size=\"14.00\">(...)</text>\n",
       "</g>\n",
       "<!-- 3682&#45;&gt;3683 -->\n",
       "<g id=\"edge13\" class=\"edge\">\n",
       "<title>3682&#45;&gt;3683</title>\n",
       "<path fill=\"none\" stroke=\"black\" d=\"M734.12,-71.72C730.44,-63.14 726.49,-53.92 722.94,-45.62\"/>\n",
       "<polygon fill=\"black\" stroke=\"black\" points=\"726.14,-44.22 718.99,-36.4 719.71,-46.98 726.14,-44.22\"/>\n",
       "</g>\n",
       "<!-- 3864 -->\n",
       "<g id=\"node15\" class=\"node\">\n",
       "<title>3864</title>\n",
       "<polygon fill=\"none\" stroke=\"black\" points=\"810.53,-36 756.53,-36 756.53,0 810.53,0 810.53,-36\"/>\n",
       "<text text-anchor=\"middle\" x=\"783.53\" y=\"-13.8\" font-family=\"Times,serif\" font-size=\"14.00\">(...)</text>\n",
       "</g>\n",
       "<!-- 3682&#45;&gt;3864 -->\n",
       "<g id=\"edge14\" class=\"edge\">\n",
       "<title>3682&#45;&gt;3864</title>\n",
       "<path fill=\"none\" stroke=\"black\" d=\"M760.93,-71.72C764.61,-63.14 768.56,-53.92 772.12,-45.62\"/>\n",
       "<polygon fill=\"black\" stroke=\"black\" points=\"775.35,-46.98 776.07,-36.4 768.91,-44.22 775.35,-46.98\"/>\n",
       "</g>\n",
       "</g>\n",
       "</svg>\n"
      ],
      "text/plain": [
       "<graphviz.files.Source at 0x1a1b46b110>"
      ]
     },
     "execution_count": 65,
     "metadata": {},
     "output_type": "execute_result"
    }
   ],
   "source": [
    "from sklearn import tree\n",
    "from IPython.display import SVG, display\n",
    "from graphviz import Source \n",
    "\n",
    "Source(tree.export_graphviz(model, out_file = None, feature_names=X.columns, max_depth = 2))"
   ]
  },
  {
   "cell_type": "markdown",
   "metadata": {},
   "source": [
    "For those curious, let's interpret diagram above.  The `value` on the first node at the top, is the average revenue for all movies - `164350612`.  The best split point for all of the data is whether the movie is less than or greater that 140 minutes.  Splitting the data there provides a the less than 140 minutes group having an average revenue of `145596396`, and over 140 minutes having an average of `357508445`."
   ]
  },
  {
   "cell_type": "markdown",
   "metadata": {},
   "source": [
    "Then the data is split based on whether the genre value is less than 2 or less than 2.5 -- the mapping below shows the split asks if the genre is Action, Adventure or Animation.  \n",
    "\n",
    "The decision tree continues beyond the image, but we only printed out three levels.  A complete mapping of the numbers to genres is provided below.  "
   ]
  },
  {
   "cell_type": "code",
   "execution_count": 100,
   "metadata": {},
   "outputs": [],
   "source": [
    "mapping = {0: 'Action', 1: 'Adventure', 2: 'Animation', 3: \n",
    "'Comedy', 4: 'Crime', 5: 'Drama', 6: 'Fantasy', 7: 'Horror',\n",
    " 8: 'Romance', 9: 'Science Fiction', 10: 'Thriller'}"
   ]
  },
  {
   "cell_type": "markdown",
   "metadata": {},
   "source": [
    "### Summary"
   ]
  },
  {
   "cell_type": "markdown",
   "metadata": {},
   "source": [
    "In this lesson, we had some practice working with a real dataset.  We saw that to train a decision tree regressor we first initialize the model, then train the model on our `X` and `y` data, and then we can make a prediction for an observation, and we can display the hypothesis function."
   ]
  },
  {
   "cell_type": "code",
   "execution_count": null,
   "metadata": {},
   "outputs": [],
   "source": []
  }
 ],
 "metadata": {
  "kernelspec": {
   "display_name": "Python 3",
   "language": "python",
   "name": "python3"
  },
  "language_info": {
   "codemirror_mode": {
    "name": "ipython",
    "version": 3
   },
   "file_extension": ".py",
   "mimetype": "text/x-python",
   "name": "python",
   "nbconvert_exporter": "python",
   "pygments_lexer": "ipython3",
   "version": "3.7.4"
  }
 },
 "nbformat": 4,
 "nbformat_minor": 4
}
