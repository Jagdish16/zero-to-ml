{
 "cells": [
  {
   "cell_type": "markdown",
   "metadata": {},
   "source": [
    "# Training Decision Trees"
   ]
  },
  {
   "cell_type": "markdown",
   "metadata": {},
   "source": [
    "## Introduction\n",
    "\n",
    "In the last lesson, we learned about decision trees. And saw that decision trees essentially provide us with a series of tests to determine if our data falls into one category or another. In this lesson, we'll see how to start with a dataset and, from there, construct a decision tree. Our technique will be the following.\n",
    "\n",
    "To predict whether our data will have one target value or another, we find a feature that most separates our data by it's target values. Then, we find the characteristic that most separates our remaining data. When we are done separating all of our data, we have a mechanism to predict what will occur with future data. Let's see this by way of example."
   ]
  },
  {
   "cell_type": "markdown",
   "metadata": {},
   "source": [
    "## Our Data\n",
    "\n",
    "Once again, we have the following data about our customer leads.\n",
    "\n",
    "| Attended College | Under Thirty | Borough   | Income | Customer |\n",
    "| ---------------- | ------------ | --------- | ------ | :------: |\n",
    "| ?                | Yes          | Manhattan | < 55   |    0     |\n",
    "| Yes              | Yes          | Brooklyn  | < 55   |    0     |\n",
    "| ?                | No           | Brooklyn  | < 55   |    1     |\n",
    "| No               | No           | Queens    | > 55   |    1     |\n",
    "| ?                | No           | Queens    | < 55   |    1     |\n",
    "| Yes              | No           | Queens    | >55    |    0     |\n",
    "| Yes              | No           | Queens    | >55    |    0     |\n",
    "| Yes              | Yes          | Manhattan | >55    |    0     |\n",
    "\n",
    "As we know, we use this data to predict whether or not a lead will become a customer. Just like always, we have the \"answers\" for this data, which tells us whether or not our past leads became a customer. That information is in the customer column. The number 1 means that the lead became a customer, and 0 means they did not. \n",
    "\n",
    "The rest of our columns are our features, which we'll use to predict whether future leads turn into customers."
   ]
  },
  {
   "cell_type": "markdown",
   "metadata": {},
   "source": [
    "## Our Procedure\n",
    "\n",
    "We'll predict whether someone will be come a customer by looking at the features that most separated customers from non-customers with our training data. So we'll use separate our data by the values to each feature. \n",
    "\n",
    "For the above observations we can ask questions like:\n",
    "\n",
    "* Does the lead have a graduate level of education? \n",
    "* Is the lead under thirty? \n",
    "* Is the lead from Manhattan? \n",
    "* Or from Brooklyn? \n",
    "* Is the lead's income over 55k?\n",
    "\n",
    "If response to these tests separate our training data between customers and non-customers, we predict this will occur in the future. \n",
    "\n",
    "For example, if we see that everyone under thirty becomes a customer with our training data, then maybe we can predict that future leads under 30 will also become customers. Once we choose one test that best separates our data, we'll then look at the rest of the data that was not separated, and find the test that best separates this remaining data.\n",
    "\n",
    " Let's summarize our procedure.\n",
    "\n",
    "```\n",
    "Given a subset of data\n",
    "For each feature in our dataset\n",
    "\t○ Split the data according to the feature\n",
    "\t○ Compute consistency of data in each split \n",
    "Choose the feature with the highest consistency to split the data\n",
    "Repeat for remaining subset\n",
    "```\n",
    "\n",
    "Let's try it out on the data to see how it works. Let's go."
   ]
  },
  {
   "cell_type": "markdown",
   "metadata": {},
   "source": [
    "#### 1. Split the data according to each feature\n",
    "\n",
    "Let's take another look at our first steps.\n",
    "\n",
    "```\n",
    "Given a subset of data\n",
    "For each feature in our dataset\n",
    "\t○ Split the data according to the feature\n",
    "\t○ Compute consistency of data in each split \n",
    "```\n",
    "\n",
    "When beginning our process we don't use a subset of data, but our entire dataset. We have the splits for each feature value below, as well as how it splits the data into customers and non-customers."
   ]
  },
  {
   "cell_type": "markdown",
   "metadata": {},
   "source": [
    "<img src=\"./customer-leads-1.png\" width=\"40%\"> <img src=\"./customer-leads-2.png\" width=\"40%\">"
   ]
  },
  {
   "cell_type": "markdown",
   "metadata": {},
   "source": [
    "Looking at the splits above, we see some splits do a fairly good job of segmenting our leads into customers and noncustomers. Others, not so much.\n",
    "\n",
    "#### 2. Compute consistency of data in each split \n",
    "\n",
    "So the next step, is to compute the consistency in each split. That is, we want to choose the test that best separates our leads into customers and non-customers. After all, if we test whether leads earn less than 55k, and we find the same proportion of customers and non-customers as we started with, this test didn't help us predict the future outcome.\n",
    "\n",
    "For now, we'll rank each test by counting the number of leads that the test places into a homogeneous group (that is, a group where everyone in a group is a customer, or everyone is not a customer).\n",
    "\n",
    "Take a look at the diagrams below as an example.\n",
    "\n",
    "> The income test scores a zero as there are no leads in a homogeneous group."
   ]
  },
  {
   "cell_type": "markdown",
   "metadata": {},
   "source": [
    "<img src=\"./customer-leads-3.png\" width=\"50%\">"
   ]
  },
  {
   "cell_type": "markdown",
   "metadata": {},
   "source": [
    "> The college test does the best across all of our features with a score of a five.  There are four 1's in a homogenous group, and one 0 in a homogenous group, leading to a total of 5 members in a homogenous group.\n",
    "\n",
    "<img src=\"./customer-leads-4.png\" width=\"50%\">"
   ]
  },
  {
   "cell_type": "markdown",
   "metadata": {},
   "source": [
    "#### 3. Choose the feature with the highest consistency \n",
    "\n",
    "Because the college test scores the highest among all of the features, we start with using college to predict whether or not someone will become a customer.\n",
    "\n",
    "- If a lead attended college, we predict they will become a customer. \n",
    "- If they did not attend, we predict that they will not become a customer.\n",
    "- And when we see a question mark for college, we do not yet make a prediction. \n",
    "\n",
    "So we just turned our above data into a hypothesis as to our future outcomes.  In other words we started with this.\n",
    "\n",
    "<img src=\"./customer-leads-5.png\" width=\"50%\">\n",
    "\n",
    "And turned it into this.\n",
    "\n",
    "<img src=\"./customer-leads-6.png\" width=\"50%\">\n",
    "\n",
    "The diagram is the beginning of a decision tree. It isn't yet finished, as it does not make a prediction about leads who do not provide us with college information. But we'll finish up with our decision tree in the next lesson."
   ]
  },
  {
   "cell_type": "markdown",
   "metadata": {},
   "source": [
    "### Summary"
   ]
  },
  {
   "cell_type": "markdown",
   "metadata": {},
   "source": [
    "In this lesson, we saw how we can train a decision tree.  Our procedure for training a decision tree is the following: \n",
    "\n",
    "```\n",
    "Given a subset of data\n",
    "For each feature in our dataset\n",
    "\t○ Split the data according to the feature\n",
    "\t○ Compute consistency of data in each split \n",
    "Choose the feature that most splits the data the highest consistency\n",
    "Repeat for remaining subset\n",
    "```"
   ]
  },
  {
   "cell_type": "markdown",
   "metadata": {},
   "source": [
    "In this lesson we saw how to find the initial feature to split the data on.  We tried splitting our observations by values for each feature, and calculated the amount of data that was separated into a homogenous group.\n",
    "\n",
    "Income scored a zero, as it did not separate any of the data into homogenous groups, while college performed the best."
   ]
  },
  {
   "cell_type": "markdown",
   "metadata": {},
   "source": [
    "<img src=\"./customer-leads-3.png\" width=\"45%\"> <img src=\"./customer-leads-4.png\" width=\"45%\">"
   ]
  },
  {
   "cell_type": "markdown",
   "metadata": {},
   "source": [
    "So that became the first of the tests for our hypothesis function"
   ]
  },
  {
   "cell_type": "markdown",
   "metadata": {},
   "source": [
    "<img src=\"./customer-leads-6.png\" width=\"50%\">"
   ]
  }
 ],
 "metadata": {
  "kernelspec": {
   "display_name": "Python 3",
   "language": "python",
   "name": "python3"
  },
  "language_info": {
   "codemirror_mode": {
    "name": "ipython",
    "version": 3
   },
   "file_extension": ".py",
   "mimetype": "text/x-python",
   "name": "python",
   "nbconvert_exporter": "python",
   "pygments_lexer": "ipython3",
   "version": "3.7.4"
  }
 },
 "nbformat": 4,
 "nbformat_minor": 4
}
