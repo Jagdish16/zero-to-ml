{
 "cells": [
  {
   "cell_type": "code",
   "execution_count": 1,
   "metadata": {},
   "outputs": [],
   "source": [
    "import pandas as pd"
   ]
  },
  {
   "cell_type": "code",
   "execution_count": 2,
   "metadata": {},
   "outputs": [],
   "source": [
    "url = 'https://raw.githubusercontent.com/fivethirtyeight/data/master/bechdel/movies.csv'"
   ]
  },
  {
   "cell_type": "code",
   "execution_count": 121,
   "metadata": {},
   "outputs": [],
   "source": [
    "df = pd.read_csv(url)\n",
    "selected_cols = ['year', 'budget_2013$', 'intgross_2013$']"
   ]
  },
  {
   "cell_type": "code",
   "execution_count": 122,
   "metadata": {},
   "outputs": [],
   "source": [
    "selected_df = df[selected_cols]"
   ]
  },
  {
   "cell_type": "code",
   "execution_count": 60,
   "metadata": {},
   "outputs": [],
   "source": [
    "df_removed_na = df.dropna(subset=['intgross_2013$'])"
   ]
  },
  {
   "cell_type": "code",
   "execution_count": 123,
   "metadata": {},
   "outputs": [],
   "source": [
    "# df_removed_na"
   ]
  },
  {
   "cell_type": "code",
   "execution_count": 151,
   "metadata": {},
   "outputs": [],
   "source": [
    "feature_cols = ['title', 'year', 'budget_2013$', 'intgross_2013$']\n",
    "df_removed_na[feature_cols].to_csv('movie_data_cleaned.csv')"
   ]
  },
  {
   "cell_type": "code",
   "execution_count": 152,
   "metadata": {},
   "outputs": [],
   "source": [
    "df = pd.read_csv('movie_data_cleaned.csv', index_col = 0)"
   ]
  },
  {
   "cell_type": "code",
   "execution_count": 153,
   "metadata": {},
   "outputs": [
    {
     "data": {
      "text/plain": [
       "Index(['title', 'year', 'budget_2013$', 'intgross_2013$'], dtype='object')"
      ]
     },
     "execution_count": 153,
     "metadata": {},
     "output_type": "execute_result"
    }
   ],
   "source": [
    "df.columns"
   ]
  },
  {
   "cell_type": "code",
   "execution_count": 125,
   "metadata": {},
   "outputs": [],
   "source": [
    "X.to_csv('movie_features_cleaned.csv')"
   ]
  },
  {
   "cell_type": "code",
   "execution_count": 126,
   "metadata": {},
   "outputs": [],
   "source": [
    "y = df_removed_na['intgross_2013$']"
   ]
  },
  {
   "cell_type": "code",
   "execution_count": 136,
   "metadata": {},
   "outputs": [],
   "source": [
    "y.to_csv('movie_target_cleaned.csv', header= True)"
   ]
  },
  {
   "cell_type": "code",
   "execution_count": 137,
   "metadata": {},
   "outputs": [],
   "source": [
    "import pandas as pd\n",
    "X = pd.read_csv('movie_features_cleaned.csv')\n",
    "y = pd.read_csv('movie_target_cleaned.csv')"
   ]
  },
  {
   "cell_type": "code",
   "execution_count": 138,
   "metadata": {},
   "outputs": [],
   "source": [
    "from sklearn.tree import DecisionTreeRegressor"
   ]
  },
  {
   "cell_type": "code",
   "execution_count": 139,
   "metadata": {},
   "outputs": [],
   "source": [
    "model = DecisionTreeRegressor()"
   ]
  },
  {
   "cell_type": "code",
   "execution_count": 140,
   "metadata": {},
   "outputs": [
    {
     "ename": "ValueError",
     "evalue": "Number of labels=1782 does not match number of samples=1783",
     "output_type": "error",
     "traceback": [
      "\u001b[0;31m---------------------------------------------------------------------------\u001b[0m",
      "\u001b[0;31mValueError\u001b[0m                                Traceback (most recent call last)",
      "\u001b[0;32m<ipython-input-140-6d10fe8973eb>\u001b[0m in \u001b[0;36m<module>\u001b[0;34m\u001b[0m\n\u001b[0;32m----> 1\u001b[0;31m \u001b[0mmodel\u001b[0m\u001b[0;34m.\u001b[0m\u001b[0mfit\u001b[0m\u001b[0;34m(\u001b[0m\u001b[0mX\u001b[0m\u001b[0;34m,\u001b[0m \u001b[0my\u001b[0m\u001b[0;34m)\u001b[0m\u001b[0;34m\u001b[0m\u001b[0;34m\u001b[0m\u001b[0m\n\u001b[0m",
      "\u001b[0;32m~/opt/anaconda3/lib/python3.7/site-packages/sklearn/tree/tree.py\u001b[0m in \u001b[0;36mfit\u001b[0;34m(self, X, y, sample_weight, check_input, X_idx_sorted)\u001b[0m\n\u001b[1;32m   1155\u001b[0m             \u001b[0msample_weight\u001b[0m\u001b[0;34m=\u001b[0m\u001b[0msample_weight\u001b[0m\u001b[0;34m,\u001b[0m\u001b[0;34m\u001b[0m\u001b[0;34m\u001b[0m\u001b[0m\n\u001b[1;32m   1156\u001b[0m             \u001b[0mcheck_input\u001b[0m\u001b[0;34m=\u001b[0m\u001b[0mcheck_input\u001b[0m\u001b[0;34m,\u001b[0m\u001b[0;34m\u001b[0m\u001b[0;34m\u001b[0m\u001b[0m\n\u001b[0;32m-> 1157\u001b[0;31m             X_idx_sorted=X_idx_sorted)\n\u001b[0m\u001b[1;32m   1158\u001b[0m         \u001b[0;32mreturn\u001b[0m \u001b[0mself\u001b[0m\u001b[0;34m\u001b[0m\u001b[0;34m\u001b[0m\u001b[0m\n\u001b[1;32m   1159\u001b[0m \u001b[0;34m\u001b[0m\u001b[0m\n",
      "\u001b[0;32m~/opt/anaconda3/lib/python3.7/site-packages/sklearn/tree/tree.py\u001b[0m in \u001b[0;36mfit\u001b[0;34m(self, X, y, sample_weight, check_input, X_idx_sorted)\u001b[0m\n\u001b[1;32m    248\u001b[0m         \u001b[0;32mif\u001b[0m \u001b[0mlen\u001b[0m\u001b[0;34m(\u001b[0m\u001b[0my\u001b[0m\u001b[0;34m)\u001b[0m \u001b[0;34m!=\u001b[0m \u001b[0mn_samples\u001b[0m\u001b[0;34m:\u001b[0m\u001b[0;34m\u001b[0m\u001b[0;34m\u001b[0m\u001b[0m\n\u001b[1;32m    249\u001b[0m             raise ValueError(\"Number of labels=%d does not match \"\n\u001b[0;32m--> 250\u001b[0;31m                              \"number of samples=%d\" % (len(y), n_samples))\n\u001b[0m\u001b[1;32m    251\u001b[0m         \u001b[0;32mif\u001b[0m \u001b[0;32mnot\u001b[0m \u001b[0;36m0\u001b[0m \u001b[0;34m<=\u001b[0m \u001b[0mself\u001b[0m\u001b[0;34m.\u001b[0m\u001b[0mmin_weight_fraction_leaf\u001b[0m \u001b[0;34m<=\u001b[0m \u001b[0;36m0.5\u001b[0m\u001b[0;34m:\u001b[0m\u001b[0;34m\u001b[0m\u001b[0;34m\u001b[0m\u001b[0m\n\u001b[1;32m    252\u001b[0m             \u001b[0;32mraise\u001b[0m \u001b[0mValueError\u001b[0m\u001b[0;34m(\u001b[0m\u001b[0;34m\"min_weight_fraction_leaf must in [0, 0.5]\"\u001b[0m\u001b[0;34m)\u001b[0m\u001b[0;34m\u001b[0m\u001b[0;34m\u001b[0m\u001b[0m\n",
      "\u001b[0;31mValueError\u001b[0m: Number of labels=1782 does not match number of samples=1783"
     ]
    }
   ],
   "source": [
    "model.fit(X, y)"
   ]
  },
  {
   "cell_type": "code",
   "execution_count": 74,
   "metadata": {},
   "outputs": [
    {
     "data": {
      "text/plain": [
       "0.8970984731224119"
      ]
     },
     "execution_count": 74,
     "metadata": {},
     "output_type": "execute_result"
    }
   ],
   "source": [
    "model.score(X, y)"
   ]
  },
  {
   "cell_type": "code",
   "execution_count": 59,
   "metadata": {},
   "outputs": [],
   "source": [
    "import plotly.graph_objects as go"
   ]
  },
  {
   "cell_type": "code",
   "execution_count": 77,
   "metadata": {},
   "outputs": [
    {
     "data": {
      "text/plain": [
       "Index(['year', 'imdb', 'title', 'test', 'clean_test', 'binary', 'budget',\n",
       "       'domgross', 'intgross', 'code', 'budget_2013$', 'domgross_2013$',\n",
       "       'intgross_2013$', 'period code', 'decade code'],\n",
       "      dtype='object')"
      ]
     },
     "execution_count": 77,
     "metadata": {},
     "output_type": "execute_result"
    }
   ],
   "source": [
    "df_removed_na.columns"
   ]
  },
  {
   "cell_type": "code",
   "execution_count": 99,
   "metadata": {},
   "outputs": [],
   "source": [
    "sampled_df = df_removed_na.sample(50)"
   ]
  },
  {
   "cell_type": "code",
   "execution_count": 100,
   "metadata": {},
   "outputs": [],
   "source": [
    "feature_cols = ['year', 'budget_2013$']\n",
    "sampled_X = sampled_df[feature_cols]"
   ]
  },
  {
   "cell_type": "code",
   "execution_count": 110,
   "metadata": {},
   "outputs": [],
   "source": [
    "errors = (sampled_df['intgross_2013$'] - est_y).to_numpy()"
   ]
  },
  {
   "cell_type": "code",
   "execution_count": 101,
   "metadata": {},
   "outputs": [],
   "source": [
    "est_y = model.predict(sampled_X)"
   ]
  },
  {
   "cell_type": "code",
   "execution_count": 119,
   "metadata": {},
   "outputs": [
    {
     "data": {
      "application/vnd.plotly.v1+json": {
       "config": {
        "plotlyServerURL": "https://plot.ly"
       },
       "data": [
        {
         "hovertext": [
          "The Other Boleyn Girl",
          "Pitch Perfect",
          "The Iron Giant",
          "Hannibal Rising",
          "The Pursuit of Happyness",
          "Stardust",
          "BloodRayne",
          "Mr. &amp; Mrs. Smith",
          "Star Trek: Insurrection",
          "Dawn of the Dead",
          "Raging Bull",
          "The Last Airbender",
          "A Dangerous Method",
          "Repo Men",
          "Salt",
          "Saved!",
          "Stealth",
          "Death at a Funeral",
          "Coach Carter",
          "Tropa de Elite",
          "Synecdoche, New York",
          "It&#39;s Complicated",
          "Clash of the Titans",
          "Festen (The Celebration)",
          "Malcolm X",
          "Pirates of the Caribbean: The Curse of the Black Pearl",
          "Legend",
          "Barry Lyndon",
          "Red Sonja",
          "Ella Enchanted",
          "The Legend of Zorro",
          "Tron Legacy",
          "We&#39;re the Millers",
          "August: Osage County",
          "Star Trek III: The Search for Spock",
          "Lincoln",
          "Gone Baby Gone",
          "Casino Royale",
          "How to Train Your Dragon",
          "3:10 to Yuma",
          "Fast and Furious 6",
          "The Final Destination",
          "Amour",
          "Shopgirl",
          "Signs",
          "Fantastic Four: Rise of the Silver Surfer",
          "Pretty Woman",
          "Horrible Bosses",
          "Beasts of the Southern Wild",
          "Prisoners"
         ],
         "mode": "markers",
         "name": "actual",
         "type": "scatter",
         "x": [
          43290252,
          17248856,
          69923101,
          56177174,
          63568799,
          78648044,
          29825828,
          131233644,
          100039262,
          34529401,
          50899822,
          160234776,
          20713816,
          34183419,
          138870139,
          6165964,
          164638572,
          23594413,
          53686491,
          7345604,
          21645126,
          92287186,
          133528980,
          1857872,
          58112153,
          158260870,
          54126394,
          47609104,
          38754498,
          43161751,
          95442650,
          213646368,
          37000000,
          25000000,
          40345992,
          65951507,
          21347326,
          117891227,
          176258254,
          53930087,
          160000000,
          43429264,
          9841994,
          8947748,
          91572563,
          134825218,
          24961656,
          36249178,
          1826349,
          46000000
         ],
         "y": [
          84107503,
          117019460,
          43819293,
          90538854,
          355205844,
          152303819,
          4301386,
          570671028,
          168351786,
          127577349,
          66113787,
          341528548,
          15336023,
          19436733,
          315890541,
          12613378,
          91167710,
          55028051,
          91469619,
          16088238,
          4744112,
          243871325,
          526867848,
          2354896,
          79978777,
          803907108,
          33562937,
          86562007,
          14951574,
          28256983,
          168784763,
          424689202,
          270000119,
          50304874,
          195005629,
          276997302,
          38896737,
          689276488,
          528636950,
          79964640,
          788128122,
          203449410,
          26295088,
          14028182,
          528777236,
          323822443,
          771396947,
          222195609,
          21388640,
          113402302
         ]
        },
        {
         "hovertext": [
          "The Other Boleyn Girl",
          "Pitch Perfect",
          "The Iron Giant",
          "Hannibal Rising",
          "The Pursuit of Happyness",
          "Stardust",
          "BloodRayne",
          "Mr. &amp; Mrs. Smith",
          "Star Trek: Insurrection",
          "Dawn of the Dead",
          "Raging Bull",
          "The Last Airbender",
          "A Dangerous Method",
          "Repo Men",
          "Salt",
          "Saved!",
          "Stealth",
          "Death at a Funeral",
          "Coach Carter",
          "Tropa de Elite",
          "Synecdoche, New York",
          "It&#39;s Complicated",
          "Clash of the Titans",
          "Festen (The Celebration)",
          "Malcolm X",
          "Pirates of the Caribbean: The Curse of the Black Pearl",
          "Legend",
          "Barry Lyndon",
          "Red Sonja",
          "Ella Enchanted",
          "The Legend of Zorro",
          "Tron Legacy",
          "We&#39;re the Millers",
          "August: Osage County",
          "Star Trek III: The Search for Spock",
          "Lincoln",
          "Gone Baby Gone",
          "Casino Royale",
          "How to Train Your Dragon",
          "3:10 to Yuma",
          "Fast and Furious 6",
          "The Final Destination",
          "Amour",
          "Shopgirl",
          "Signs",
          "Fantastic Four: Rise of the Silver Surfer",
          "Pretty Woman",
          "Horrible Bosses",
          "Beasts of the Southern Wild",
          "Prisoners"
         ],
         "mode": "markers",
         "name": "predicted",
         "opacity": 0.5,
         "type": "scatter",
         "x": [
          43290252,
          17248856,
          69923101,
          56177174,
          63568799,
          78648044,
          29825828,
          131233644,
          100039262,
          34529401,
          50899822,
          160234776,
          20713816,
          34183419,
          138870139,
          6165964,
          164638572,
          23594413,
          53686491,
          7345604,
          21645126,
          92287186,
          133528980,
          1857872,
          58112153,
          158260870,
          54126394,
          47609104,
          38754498,
          43161751,
          95442650,
          213646368,
          37000000,
          25000000,
          40345992,
          65951507,
          21347326,
          117891227,
          176258254,
          53930087,
          160000000,
          43429264,
          9841994,
          8947748,
          91572563,
          134825218,
          24961656,
          36249178,
          1826349,
          46000000
         ],
         "y": [
          99710273.5,
          117019460,
          111444687.33333333,
          76373235,
          355205844,
          152303819,
          56904575.5,
          415885164.5,
          168351786,
          103543548,
          130440865.33333333,
          522329176.3333333,
          41660259.25,
          45853022.666666664,
          329870353,
          25009529.5,
          91167710,
          55028051,
          100631881.33333333,
          16088238,
          35074759.333333336,
          319030834.5,
          774262236.5,
          2354896,
          79978777,
          660052691,
          33562937,
          86562007,
          14951574,
          74014864,
          212095303.66666666,
          753309885.5,
          270000119,
          60339294.5,
          123558128.33333333,
          239091343,
          38896737,
          689276488,
          668240795,
          79964640,
          788128122,
          149541540.5,
          26295088,
          30884692.5,
          528777236,
          323822443,
          771396947,
          154286472.66666666,
          21388640,
          113402302
         ]
        }
       ],
       "layout": {
        "autosize": true,
        "template": {
         "data": {
          "bar": [
           {
            "error_x": {
             "color": "#2a3f5f"
            },
            "error_y": {
             "color": "#2a3f5f"
            },
            "marker": {
             "line": {
              "color": "#E5ECF6",
              "width": 0.5
             }
            },
            "type": "bar"
           }
          ],
          "barpolar": [
           {
            "marker": {
             "line": {
              "color": "#E5ECF6",
              "width": 0.5
             }
            },
            "type": "barpolar"
           }
          ],
          "carpet": [
           {
            "aaxis": {
             "endlinecolor": "#2a3f5f",
             "gridcolor": "white",
             "linecolor": "white",
             "minorgridcolor": "white",
             "startlinecolor": "#2a3f5f"
            },
            "baxis": {
             "endlinecolor": "#2a3f5f",
             "gridcolor": "white",
             "linecolor": "white",
             "minorgridcolor": "white",
             "startlinecolor": "#2a3f5f"
            },
            "type": "carpet"
           }
          ],
          "choropleth": [
           {
            "colorbar": {
             "outlinewidth": 0,
             "ticks": ""
            },
            "type": "choropleth"
           }
          ],
          "contour": [
           {
            "colorbar": {
             "outlinewidth": 0,
             "ticks": ""
            },
            "colorscale": [
             [
              0,
              "#0d0887"
             ],
             [
              0.1111111111111111,
              "#46039f"
             ],
             [
              0.2222222222222222,
              "#7201a8"
             ],
             [
              0.3333333333333333,
              "#9c179e"
             ],
             [
              0.4444444444444444,
              "#bd3786"
             ],
             [
              0.5555555555555556,
              "#d8576b"
             ],
             [
              0.6666666666666666,
              "#ed7953"
             ],
             [
              0.7777777777777778,
              "#fb9f3a"
             ],
             [
              0.8888888888888888,
              "#fdca26"
             ],
             [
              1,
              "#f0f921"
             ]
            ],
            "type": "contour"
           }
          ],
          "contourcarpet": [
           {
            "colorbar": {
             "outlinewidth": 0,
             "ticks": ""
            },
            "type": "contourcarpet"
           }
          ],
          "heatmap": [
           {
            "colorbar": {
             "outlinewidth": 0,
             "ticks": ""
            },
            "colorscale": [
             [
              0,
              "#0d0887"
             ],
             [
              0.1111111111111111,
              "#46039f"
             ],
             [
              0.2222222222222222,
              "#7201a8"
             ],
             [
              0.3333333333333333,
              "#9c179e"
             ],
             [
              0.4444444444444444,
              "#bd3786"
             ],
             [
              0.5555555555555556,
              "#d8576b"
             ],
             [
              0.6666666666666666,
              "#ed7953"
             ],
             [
              0.7777777777777778,
              "#fb9f3a"
             ],
             [
              0.8888888888888888,
              "#fdca26"
             ],
             [
              1,
              "#f0f921"
             ]
            ],
            "type": "heatmap"
           }
          ],
          "heatmapgl": [
           {
            "colorbar": {
             "outlinewidth": 0,
             "ticks": ""
            },
            "colorscale": [
             [
              0,
              "#0d0887"
             ],
             [
              0.1111111111111111,
              "#46039f"
             ],
             [
              0.2222222222222222,
              "#7201a8"
             ],
             [
              0.3333333333333333,
              "#9c179e"
             ],
             [
              0.4444444444444444,
              "#bd3786"
             ],
             [
              0.5555555555555556,
              "#d8576b"
             ],
             [
              0.6666666666666666,
              "#ed7953"
             ],
             [
              0.7777777777777778,
              "#fb9f3a"
             ],
             [
              0.8888888888888888,
              "#fdca26"
             ],
             [
              1,
              "#f0f921"
             ]
            ],
            "type": "heatmapgl"
           }
          ],
          "histogram": [
           {
            "marker": {
             "colorbar": {
              "outlinewidth": 0,
              "ticks": ""
             }
            },
            "type": "histogram"
           }
          ],
          "histogram2d": [
           {
            "colorbar": {
             "outlinewidth": 0,
             "ticks": ""
            },
            "colorscale": [
             [
              0,
              "#0d0887"
             ],
             [
              0.1111111111111111,
              "#46039f"
             ],
             [
              0.2222222222222222,
              "#7201a8"
             ],
             [
              0.3333333333333333,
              "#9c179e"
             ],
             [
              0.4444444444444444,
              "#bd3786"
             ],
             [
              0.5555555555555556,
              "#d8576b"
             ],
             [
              0.6666666666666666,
              "#ed7953"
             ],
             [
              0.7777777777777778,
              "#fb9f3a"
             ],
             [
              0.8888888888888888,
              "#fdca26"
             ],
             [
              1,
              "#f0f921"
             ]
            ],
            "type": "histogram2d"
           }
          ],
          "histogram2dcontour": [
           {
            "colorbar": {
             "outlinewidth": 0,
             "ticks": ""
            },
            "colorscale": [
             [
              0,
              "#0d0887"
             ],
             [
              0.1111111111111111,
              "#46039f"
             ],
             [
              0.2222222222222222,
              "#7201a8"
             ],
             [
              0.3333333333333333,
              "#9c179e"
             ],
             [
              0.4444444444444444,
              "#bd3786"
             ],
             [
              0.5555555555555556,
              "#d8576b"
             ],
             [
              0.6666666666666666,
              "#ed7953"
             ],
             [
              0.7777777777777778,
              "#fb9f3a"
             ],
             [
              0.8888888888888888,
              "#fdca26"
             ],
             [
              1,
              "#f0f921"
             ]
            ],
            "type": "histogram2dcontour"
           }
          ],
          "mesh3d": [
           {
            "colorbar": {
             "outlinewidth": 0,
             "ticks": ""
            },
            "type": "mesh3d"
           }
          ],
          "parcoords": [
           {
            "line": {
             "colorbar": {
              "outlinewidth": 0,
              "ticks": ""
             }
            },
            "type": "parcoords"
           }
          ],
          "pie": [
           {
            "automargin": true,
            "type": "pie"
           }
          ],
          "scatter": [
           {
            "marker": {
             "colorbar": {
              "outlinewidth": 0,
              "ticks": ""
             }
            },
            "type": "scatter"
           }
          ],
          "scatter3d": [
           {
            "line": {
             "colorbar": {
              "outlinewidth": 0,
              "ticks": ""
             }
            },
            "marker": {
             "colorbar": {
              "outlinewidth": 0,
              "ticks": ""
             }
            },
            "type": "scatter3d"
           }
          ],
          "scattercarpet": [
           {
            "marker": {
             "colorbar": {
              "outlinewidth": 0,
              "ticks": ""
             }
            },
            "type": "scattercarpet"
           }
          ],
          "scattergeo": [
           {
            "marker": {
             "colorbar": {
              "outlinewidth": 0,
              "ticks": ""
             }
            },
            "type": "scattergeo"
           }
          ],
          "scattergl": [
           {
            "marker": {
             "colorbar": {
              "outlinewidth": 0,
              "ticks": ""
             }
            },
            "type": "scattergl"
           }
          ],
          "scattermapbox": [
           {
            "marker": {
             "colorbar": {
              "outlinewidth": 0,
              "ticks": ""
             }
            },
            "type": "scattermapbox"
           }
          ],
          "scatterpolar": [
           {
            "marker": {
             "colorbar": {
              "outlinewidth": 0,
              "ticks": ""
             }
            },
            "type": "scatterpolar"
           }
          ],
          "scatterpolargl": [
           {
            "marker": {
             "colorbar": {
              "outlinewidth": 0,
              "ticks": ""
             }
            },
            "type": "scatterpolargl"
           }
          ],
          "scatterternary": [
           {
            "marker": {
             "colorbar": {
              "outlinewidth": 0,
              "ticks": ""
             }
            },
            "type": "scatterternary"
           }
          ],
          "surface": [
           {
            "colorbar": {
             "outlinewidth": 0,
             "ticks": ""
            },
            "colorscale": [
             [
              0,
              "#0d0887"
             ],
             [
              0.1111111111111111,
              "#46039f"
             ],
             [
              0.2222222222222222,
              "#7201a8"
             ],
             [
              0.3333333333333333,
              "#9c179e"
             ],
             [
              0.4444444444444444,
              "#bd3786"
             ],
             [
              0.5555555555555556,
              "#d8576b"
             ],
             [
              0.6666666666666666,
              "#ed7953"
             ],
             [
              0.7777777777777778,
              "#fb9f3a"
             ],
             [
              0.8888888888888888,
              "#fdca26"
             ],
             [
              1,
              "#f0f921"
             ]
            ],
            "type": "surface"
           }
          ],
          "table": [
           {
            "cells": {
             "fill": {
              "color": "#EBF0F8"
             },
             "line": {
              "color": "white"
             }
            },
            "header": {
             "fill": {
              "color": "#C8D4E3"
             },
             "line": {
              "color": "white"
             }
            },
            "type": "table"
           }
          ]
         },
         "layout": {
          "annotationdefaults": {
           "arrowcolor": "#2a3f5f",
           "arrowhead": 0,
           "arrowwidth": 1
          },
          "coloraxis": {
           "colorbar": {
            "outlinewidth": 0,
            "ticks": ""
           }
          },
          "colorscale": {
           "diverging": [
            [
             0,
             "#8e0152"
            ],
            [
             0.1,
             "#c51b7d"
            ],
            [
             0.2,
             "#de77ae"
            ],
            [
             0.3,
             "#f1b6da"
            ],
            [
             0.4,
             "#fde0ef"
            ],
            [
             0.5,
             "#f7f7f7"
            ],
            [
             0.6,
             "#e6f5d0"
            ],
            [
             0.7,
             "#b8e186"
            ],
            [
             0.8,
             "#7fbc41"
            ],
            [
             0.9,
             "#4d9221"
            ],
            [
             1,
             "#276419"
            ]
           ],
           "sequential": [
            [
             0,
             "#0d0887"
            ],
            [
             0.1111111111111111,
             "#46039f"
            ],
            [
             0.2222222222222222,
             "#7201a8"
            ],
            [
             0.3333333333333333,
             "#9c179e"
            ],
            [
             0.4444444444444444,
             "#bd3786"
            ],
            [
             0.5555555555555556,
             "#d8576b"
            ],
            [
             0.6666666666666666,
             "#ed7953"
            ],
            [
             0.7777777777777778,
             "#fb9f3a"
            ],
            [
             0.8888888888888888,
             "#fdca26"
            ],
            [
             1,
             "#f0f921"
            ]
           ],
           "sequentialminus": [
            [
             0,
             "#0d0887"
            ],
            [
             0.1111111111111111,
             "#46039f"
            ],
            [
             0.2222222222222222,
             "#7201a8"
            ],
            [
             0.3333333333333333,
             "#9c179e"
            ],
            [
             0.4444444444444444,
             "#bd3786"
            ],
            [
             0.5555555555555556,
             "#d8576b"
            ],
            [
             0.6666666666666666,
             "#ed7953"
            ],
            [
             0.7777777777777778,
             "#fb9f3a"
            ],
            [
             0.8888888888888888,
             "#fdca26"
            ],
            [
             1,
             "#f0f921"
            ]
           ]
          },
          "colorway": [
           "#636efa",
           "#EF553B",
           "#00cc96",
           "#ab63fa",
           "#FFA15A",
           "#19d3f3",
           "#FF6692",
           "#B6E880",
           "#FF97FF",
           "#FECB52"
          ],
          "font": {
           "color": "#2a3f5f"
          },
          "geo": {
           "bgcolor": "white",
           "lakecolor": "white",
           "landcolor": "#E5ECF6",
           "showlakes": true,
           "showland": true,
           "subunitcolor": "white"
          },
          "hoverlabel": {
           "align": "left"
          },
          "hovermode": "closest",
          "mapbox": {
           "style": "light"
          },
          "paper_bgcolor": "white",
          "plot_bgcolor": "#E5ECF6",
          "polar": {
           "angularaxis": {
            "gridcolor": "white",
            "linecolor": "white",
            "ticks": ""
           },
           "bgcolor": "#E5ECF6",
           "radialaxis": {
            "gridcolor": "white",
            "linecolor": "white",
            "ticks": ""
           }
          },
          "scene": {
           "xaxis": {
            "backgroundcolor": "#E5ECF6",
            "gridcolor": "white",
            "gridwidth": 2,
            "linecolor": "white",
            "showbackground": true,
            "ticks": "",
            "zerolinecolor": "white"
           },
           "yaxis": {
            "backgroundcolor": "#E5ECF6",
            "gridcolor": "white",
            "gridwidth": 2,
            "linecolor": "white",
            "showbackground": true,
            "ticks": "",
            "zerolinecolor": "white"
           },
           "zaxis": {
            "backgroundcolor": "#E5ECF6",
            "gridcolor": "white",
            "gridwidth": 2,
            "linecolor": "white",
            "showbackground": true,
            "ticks": "",
            "zerolinecolor": "white"
           }
          },
          "shapedefaults": {
           "line": {
            "color": "#2a3f5f"
           }
          },
          "ternary": {
           "aaxis": {
            "gridcolor": "white",
            "linecolor": "white",
            "ticks": ""
           },
           "baxis": {
            "gridcolor": "white",
            "linecolor": "white",
            "ticks": ""
           },
           "bgcolor": "#E5ECF6",
           "caxis": {
            "gridcolor": "white",
            "linecolor": "white",
            "ticks": ""
           }
          },
          "title": {
           "x": 0.05
          },
          "xaxis": {
           "automargin": true,
           "gridcolor": "white",
           "linecolor": "white",
           "ticks": "",
           "title": {
            "standoff": 15
           },
           "zerolinecolor": "white",
           "zerolinewidth": 2
          },
          "yaxis": {
           "automargin": true,
           "gridcolor": "white",
           "linecolor": "white",
           "ticks": "",
           "title": {
            "standoff": 15
           },
           "zerolinecolor": "white",
           "zerolinewidth": 2
          }
         }
        },
        "xaxis": {
         "autorange": true,
         "range": [
          -11289091.174759503,
          226761808.1747595
         ],
         "type": "linear"
        },
        "yaxis": {
         "autorange": true,
         "range": [
          -56357527.171974525,
          862619531.1719745
         ],
         "type": "linear"
        }
       }
      },
      "image/png": "[encoded data removed]",
      "text/html": [
       "<div>\n",
       "        \n",
       "        \n",
       "            <div id=\"d0680774-a9ed-4e9a-91c1-419ebe66f339\" class=\"plotly-graph-div\" style=\"height:525px; width:100%;\"></div>\n",
       "            <script type=\"text/javascript\">\n",
       "                require([\"plotly\"], function(Plotly) {\n",
       "                    window.PLOTLYENV=window.PLOTLYENV || {};\n",
       "                    \n",
       "                if (document.getElementById(\"d0680774-a9ed-4e9a-91c1-419ebe66f339\")) {\n",
       "                    Plotly.newPlot(\n",
       "                        'd0680774-a9ed-4e9a-91c1-419ebe66f339',\n",
       "                        [{\"hovertext\": [\"The Other Boleyn Girl\", \"Pitch Perfect\", \"The Iron Giant\", \"Hannibal Rising\", \"The Pursuit of Happyness\", \"Stardust\", \"BloodRayne\", \"Mr. &amp; Mrs. Smith\", \"Star Trek: Insurrection\", \"Dawn of the Dead\", \"Raging Bull\", \"The Last Airbender\", \"A Dangerous Method\", \"Repo Men\", \"Salt\", \"Saved!\", \"Stealth\", \"Death at a Funeral\", \"Coach Carter\", \"Tropa de Elite\", \"Synecdoche, New York\", \"It&#39;s Complicated\", \"Clash of the Titans\", \"Festen (The Celebration)\", \"Malcolm X\", \"Pirates of the Caribbean: The Curse of the Black Pearl\", \"Legend\", \"Barry Lyndon\", \"Red Sonja\", \"Ella Enchanted\", \"The Legend of Zorro\", \"Tron Legacy\", \"We&#39;re the Millers\", \"August: Osage County\", \"Star Trek III: The Search for Spock\", \"Lincoln\", \"Gone Baby Gone\", \"Casino Royale\", \"How to Train Your Dragon\", \"3:10 to Yuma\", \"Fast and Furious 6\", \"The Final Destination\", \"Amour\", \"Shopgirl\", \"Signs\", \"Fantastic Four: Rise of the Silver Surfer\", \"Pretty Woman\", \"Horrible Bosses\", \"Beasts of the Southern Wild\", \"Prisoners\"], \"mode\": \"markers\", \"name\": \"actual\", \"type\": \"scatter\", \"x\": [43290252, 17248856, 69923101, 56177174, 63568799, 78648044, 29825828, 131233644, 100039262, 34529401, 50899822, 160234776, 20713816, 34183419, 138870139, 6165964, 164638572, 23594413, 53686491, 7345604, 21645126, 92287186, 133528980, 1857872, 58112153, 158260870, 54126394, 47609104, 38754498, 43161751, 95442650, 213646368, 37000000, 25000000, 40345992, 65951507, 21347326, 117891227, 176258254, 53930087, 160000000, 43429264, 9841994, 8947748, 91572563, 134825218, 24961656, 36249178, 1826349, 46000000], \"y\": [84107503.0, 117019460.0, 43819293.0, 90538854.0, 355205844.0, 152303819.0, 4301386.0, 570671028.0, 168351786.0, 127577349.0, 66113787.0, 341528548.0, 15336023.0, 19436733.0, 315890541.0, 12613378.0, 91167710.0, 55028051.0, 91469619.0, 16088238.0, 4744112.0, 243871325.0, 526867848.0, 2354896.0, 79978777.0, 803907108.0, 33562937.0, 86562007.0, 14951574.0, 28256983.0, 168784763.0, 424689202.0, 270000119.0, 50304874.0, 195005629.0, 276997302.0, 38896737.0, 689276488.0, 528636950.0, 79964640.0, 788128122.0, 203449410.0, 26295088.0, 14028182.0, 528777236.0, 323822443.0, 771396947.0, 222195609.0, 21388640.0, 113402302.0]}, {\"hovertext\": [\"The Other Boleyn Girl\", \"Pitch Perfect\", \"The Iron Giant\", \"Hannibal Rising\", \"The Pursuit of Happyness\", \"Stardust\", \"BloodRayne\", \"Mr. &amp; Mrs. Smith\", \"Star Trek: Insurrection\", \"Dawn of the Dead\", \"Raging Bull\", \"The Last Airbender\", \"A Dangerous Method\", \"Repo Men\", \"Salt\", \"Saved!\", \"Stealth\", \"Death at a Funeral\", \"Coach Carter\", \"Tropa de Elite\", \"Synecdoche, New York\", \"It&#39;s Complicated\", \"Clash of the Titans\", \"Festen (The Celebration)\", \"Malcolm X\", \"Pirates of the Caribbean: The Curse of the Black Pearl\", \"Legend\", \"Barry Lyndon\", \"Red Sonja\", \"Ella Enchanted\", \"The Legend of Zorro\", \"Tron Legacy\", \"We&#39;re the Millers\", \"August: Osage County\", \"Star Trek III: The Search for Spock\", \"Lincoln\", \"Gone Baby Gone\", \"Casino Royale\", \"How to Train Your Dragon\", \"3:10 to Yuma\", \"Fast and Furious 6\", \"The Final Destination\", \"Amour\", \"Shopgirl\", \"Signs\", \"Fantastic Four: Rise of the Silver Surfer\", \"Pretty Woman\", \"Horrible Bosses\", \"Beasts of the Southern Wild\", \"Prisoners\"], \"mode\": \"markers\", \"name\": \"predicted\", \"opacity\": 0.5, \"type\": \"scatter\", \"x\": [43290252, 17248856, 69923101, 56177174, 63568799, 78648044, 29825828, 131233644, 100039262, 34529401, 50899822, 160234776, 20713816, 34183419, 138870139, 6165964, 164638572, 23594413, 53686491, 7345604, 21645126, 92287186, 133528980, 1857872, 58112153, 158260870, 54126394, 47609104, 38754498, 43161751, 95442650, 213646368, 37000000, 25000000, 40345992, 65951507, 21347326, 117891227, 176258254, 53930087, 160000000, 43429264, 9841994, 8947748, 91572563, 134825218, 24961656, 36249178, 1826349, 46000000], \"y\": [99710273.5, 117019460.0, 111444687.33333333, 76373235.0, 355205844.0, 152303819.0, 56904575.5, 415885164.5, 168351786.0, 103543548.0, 130440865.33333333, 522329176.3333333, 41660259.25, 45853022.666666664, 329870353.0, 25009529.5, 91167710.0, 55028051.0, 100631881.33333333, 16088238.0, 35074759.333333336, 319030834.5, 774262236.5, 2354896.0, 79978777.0, 660052691.0, 33562937.0, 86562007.0, 14951574.0, 74014864.0, 212095303.66666666, 753309885.5, 270000119.0, 60339294.5, 123558128.33333333, 239091343.0, 38896737.0, 689276488.0, 668240795.0, 79964640.0, 788128122.0, 149541540.5, 26295088.0, 30884692.5, 528777236.0, 323822443.0, 771396947.0, 154286472.66666666, 21388640.0, 113402302.0]}],\n",
       "                        {\"template\": {\"data\": {\"bar\": [{\"error_x\": {\"color\": \"#2a3f5f\"}, \"error_y\": {\"color\": \"#2a3f5f\"}, \"marker\": {\"line\": {\"color\": \"#E5ECF6\", \"width\": 0.5}}, \"type\": \"bar\"}], \"barpolar\": [{\"marker\": {\"line\": {\"color\": \"#E5ECF6\", \"width\": 0.5}}, \"type\": \"barpolar\"}], \"carpet\": [{\"aaxis\": {\"endlinecolor\": \"#2a3f5f\", \"gridcolor\": \"white\", \"linecolor\": \"white\", \"minorgridcolor\": \"white\", \"startlinecolor\": \"#2a3f5f\"}, \"baxis\": {\"endlinecolor\": \"#2a3f5f\", \"gridcolor\": \"white\", \"linecolor\": \"white\", \"minorgridcolor\": \"white\", \"startlinecolor\": \"#2a3f5f\"}, \"type\": \"carpet\"}], \"choropleth\": [{\"colorbar\": {\"outlinewidth\": 0, \"ticks\": \"\"}, \"type\": \"choropleth\"}], \"contour\": [{\"colorbar\": {\"outlinewidth\": 0, \"ticks\": \"\"}, \"colorscale\": [[0.0, \"#0d0887\"], [0.1111111111111111, \"#46039f\"], [0.2222222222222222, \"#7201a8\"], [0.3333333333333333, \"#9c179e\"], [0.4444444444444444, \"#bd3786\"], [0.5555555555555556, \"#d8576b\"], [0.6666666666666666, \"#ed7953\"], [0.7777777777777778, \"#fb9f3a\"], [0.8888888888888888, \"#fdca26\"], [1.0, \"#f0f921\"]], \"type\": \"contour\"}], \"contourcarpet\": [{\"colorbar\": {\"outlinewidth\": 0, \"ticks\": \"\"}, \"type\": \"contourcarpet\"}], \"heatmap\": [{\"colorbar\": {\"outlinewidth\": 0, \"ticks\": \"\"}, \"colorscale\": [[0.0, \"#0d0887\"], [0.1111111111111111, \"#46039f\"], [0.2222222222222222, \"#7201a8\"], [0.3333333333333333, \"#9c179e\"], [0.4444444444444444, \"#bd3786\"], [0.5555555555555556, \"#d8576b\"], [0.6666666666666666, \"#ed7953\"], [0.7777777777777778, \"#fb9f3a\"], [0.8888888888888888, \"#fdca26\"], [1.0, \"#f0f921\"]], \"type\": \"heatmap\"}], \"heatmapgl\": [{\"colorbar\": {\"outlinewidth\": 0, \"ticks\": \"\"}, \"colorscale\": [[0.0, \"#0d0887\"], [0.1111111111111111, \"#46039f\"], [0.2222222222222222, \"#7201a8\"], [0.3333333333333333, \"#9c179e\"], [0.4444444444444444, \"#bd3786\"], [0.5555555555555556, \"#d8576b\"], [0.6666666666666666, \"#ed7953\"], [0.7777777777777778, \"#fb9f3a\"], [0.8888888888888888, \"#fdca26\"], [1.0, \"#f0f921\"]], \"type\": \"heatmapgl\"}], \"histogram\": [{\"marker\": {\"colorbar\": {\"outlinewidth\": 0, \"ticks\": \"\"}}, \"type\": \"histogram\"}], \"histogram2d\": [{\"colorbar\": {\"outlinewidth\": 0, \"ticks\": \"\"}, \"colorscale\": [[0.0, \"#0d0887\"], [0.1111111111111111, \"#46039f\"], [0.2222222222222222, \"#7201a8\"], [0.3333333333333333, \"#9c179e\"], [0.4444444444444444, \"#bd3786\"], [0.5555555555555556, \"#d8576b\"], [0.6666666666666666, \"#ed7953\"], [0.7777777777777778, \"#fb9f3a\"], [0.8888888888888888, \"#fdca26\"], [1.0, \"#f0f921\"]], \"type\": \"histogram2d\"}], \"histogram2dcontour\": [{\"colorbar\": {\"outlinewidth\": 0, \"ticks\": \"\"}, \"colorscale\": [[0.0, \"#0d0887\"], [0.1111111111111111, \"#46039f\"], [0.2222222222222222, \"#7201a8\"], [0.3333333333333333, \"#9c179e\"], [0.4444444444444444, \"#bd3786\"], [0.5555555555555556, \"#d8576b\"], [0.6666666666666666, \"#ed7953\"], [0.7777777777777778, \"#fb9f3a\"], [0.8888888888888888, \"#fdca26\"], [1.0, \"#f0f921\"]], \"type\": \"histogram2dcontour\"}], \"mesh3d\": [{\"colorbar\": {\"outlinewidth\": 0, \"ticks\": \"\"}, \"type\": \"mesh3d\"}], \"parcoords\": [{\"line\": {\"colorbar\": {\"outlinewidth\": 0, \"ticks\": \"\"}}, \"type\": \"parcoords\"}], \"pie\": [{\"automargin\": true, \"type\": \"pie\"}], \"scatter\": [{\"marker\": {\"colorbar\": {\"outlinewidth\": 0, \"ticks\": \"\"}}, \"type\": \"scatter\"}], \"scatter3d\": [{\"line\": {\"colorbar\": {\"outlinewidth\": 0, \"ticks\": \"\"}}, \"marker\": {\"colorbar\": {\"outlinewidth\": 0, \"ticks\": \"\"}}, \"type\": \"scatter3d\"}], \"scattercarpet\": [{\"marker\": {\"colorbar\": {\"outlinewidth\": 0, \"ticks\": \"\"}}, \"type\": \"scattercarpet\"}], \"scattergeo\": [{\"marker\": {\"colorbar\": {\"outlinewidth\": 0, \"ticks\": \"\"}}, \"type\": \"scattergeo\"}], \"scattergl\": [{\"marker\": {\"colorbar\": {\"outlinewidth\": 0, \"ticks\": \"\"}}, \"type\": \"scattergl\"}], \"scattermapbox\": [{\"marker\": {\"colorbar\": {\"outlinewidth\": 0, \"ticks\": \"\"}}, \"type\": \"scattermapbox\"}], \"scatterpolar\": [{\"marker\": {\"colorbar\": {\"outlinewidth\": 0, \"ticks\": \"\"}}, \"type\": \"scatterpolar\"}], \"scatterpolargl\": [{\"marker\": {\"colorbar\": {\"outlinewidth\": 0, \"ticks\": \"\"}}, \"type\": \"scatterpolargl\"}], \"scatterternary\": [{\"marker\": {\"colorbar\": {\"outlinewidth\": 0, \"ticks\": \"\"}}, \"type\": \"scatterternary\"}], \"surface\": [{\"colorbar\": {\"outlinewidth\": 0, \"ticks\": \"\"}, \"colorscale\": [[0.0, \"#0d0887\"], [0.1111111111111111, \"#46039f\"], [0.2222222222222222, \"#7201a8\"], [0.3333333333333333, \"#9c179e\"], [0.4444444444444444, \"#bd3786\"], [0.5555555555555556, \"#d8576b\"], [0.6666666666666666, \"#ed7953\"], [0.7777777777777778, \"#fb9f3a\"], [0.8888888888888888, \"#fdca26\"], [1.0, \"#f0f921\"]], \"type\": \"surface\"}], \"table\": [{\"cells\": {\"fill\": {\"color\": \"#EBF0F8\"}, \"line\": {\"color\": \"white\"}}, \"header\": {\"fill\": {\"color\": \"#C8D4E3\"}, \"line\": {\"color\": \"white\"}}, \"type\": \"table\"}]}, \"layout\": {\"annotationdefaults\": {\"arrowcolor\": \"#2a3f5f\", \"arrowhead\": 0, \"arrowwidth\": 1}, \"coloraxis\": {\"colorbar\": {\"outlinewidth\": 0, \"ticks\": \"\"}}, \"colorscale\": {\"diverging\": [[0, \"#8e0152\"], [0.1, \"#c51b7d\"], [0.2, \"#de77ae\"], [0.3, \"#f1b6da\"], [0.4, \"#fde0ef\"], [0.5, \"#f7f7f7\"], [0.6, \"#e6f5d0\"], [0.7, \"#b8e186\"], [0.8, \"#7fbc41\"], [0.9, \"#4d9221\"], [1, \"#276419\"]], \"sequential\": [[0.0, \"#0d0887\"], [0.1111111111111111, \"#46039f\"], [0.2222222222222222, \"#7201a8\"], [0.3333333333333333, \"#9c179e\"], [0.4444444444444444, \"#bd3786\"], [0.5555555555555556, \"#d8576b\"], [0.6666666666666666, \"#ed7953\"], [0.7777777777777778, \"#fb9f3a\"], [0.8888888888888888, \"#fdca26\"], [1.0, \"#f0f921\"]], \"sequentialminus\": [[0.0, \"#0d0887\"], [0.1111111111111111, \"#46039f\"], [0.2222222222222222, \"#7201a8\"], [0.3333333333333333, \"#9c179e\"], [0.4444444444444444, \"#bd3786\"], [0.5555555555555556, \"#d8576b\"], [0.6666666666666666, \"#ed7953\"], [0.7777777777777778, \"#fb9f3a\"], [0.8888888888888888, \"#fdca26\"], [1.0, \"#f0f921\"]]}, \"colorway\": [\"#636efa\", \"#EF553B\", \"#00cc96\", \"#ab63fa\", \"#FFA15A\", \"#19d3f3\", \"#FF6692\", \"#B6E880\", \"#FF97FF\", \"#FECB52\"], \"font\": {\"color\": \"#2a3f5f\"}, \"geo\": {\"bgcolor\": \"white\", \"lakecolor\": \"white\", \"landcolor\": \"#E5ECF6\", \"showlakes\": true, \"showland\": true, \"subunitcolor\": \"white\"}, \"hoverlabel\": {\"align\": \"left\"}, \"hovermode\": \"closest\", \"mapbox\": {\"style\": \"light\"}, \"paper_bgcolor\": \"white\", \"plot_bgcolor\": \"#E5ECF6\", \"polar\": {\"angularaxis\": {\"gridcolor\": \"white\", \"linecolor\": \"white\", \"ticks\": \"\"}, \"bgcolor\": \"#E5ECF6\", \"radialaxis\": {\"gridcolor\": \"white\", \"linecolor\": \"white\", \"ticks\": \"\"}}, \"scene\": {\"xaxis\": {\"backgroundcolor\": \"#E5ECF6\", \"gridcolor\": \"white\", \"gridwidth\": 2, \"linecolor\": \"white\", \"showbackground\": true, \"ticks\": \"\", \"zerolinecolor\": \"white\"}, \"yaxis\": {\"backgroundcolor\": \"#E5ECF6\", \"gridcolor\": \"white\", \"gridwidth\": 2, \"linecolor\": \"white\", \"showbackground\": true, \"ticks\": \"\", \"zerolinecolor\": \"white\"}, \"zaxis\": {\"backgroundcolor\": \"#E5ECF6\", \"gridcolor\": \"white\", \"gridwidth\": 2, \"linecolor\": \"white\", \"showbackground\": true, \"ticks\": \"\", \"zerolinecolor\": \"white\"}}, \"shapedefaults\": {\"line\": {\"color\": \"#2a3f5f\"}}, \"ternary\": {\"aaxis\": {\"gridcolor\": \"white\", \"linecolor\": \"white\", \"ticks\": \"\"}, \"baxis\": {\"gridcolor\": \"white\", \"linecolor\": \"white\", \"ticks\": \"\"}, \"bgcolor\": \"#E5ECF6\", \"caxis\": {\"gridcolor\": \"white\", \"linecolor\": \"white\", \"ticks\": \"\"}}, \"title\": {\"x\": 0.05}, \"xaxis\": {\"automargin\": true, \"gridcolor\": \"white\", \"linecolor\": \"white\", \"ticks\": \"\", \"title\": {\"standoff\": 15}, \"zerolinecolor\": \"white\", \"zerolinewidth\": 2}, \"yaxis\": {\"automargin\": true, \"gridcolor\": \"white\", \"linecolor\": \"white\", \"ticks\": \"\", \"title\": {\"standoff\": 15}, \"zerolinecolor\": \"white\", \"zerolinewidth\": 2}}}},\n",
       "                        {\"responsive\": true}\n",
       "                    ).then(function(){\n",
       "                            \n",
       "var gd = document.getElementById('d0680774-a9ed-4e9a-91c1-419ebe66f339');\n",
       "var x = new MutationObserver(function (mutations, observer) {{\n",
       "        var display = window.getComputedStyle(gd).display;\n",
       "        if (!display || display === 'none') {{\n",
       "            console.log([gd, 'removed!']);\n",
       "            Plotly.purge(gd);\n",
       "            observer.disconnect();\n",
       "        }}\n",
       "}});\n",
       "\n",
       "// Listen for the removal of the full notebook cells\n",
       "var notebookContainer = gd.closest('#notebook-container');\n",
       "if (notebookContainer) {{\n",
       "    x.observe(notebookContainer, {childList: true});\n",
       "}}\n",
       "\n",
       "// Listen for the clearing of the current output cell\n",
       "var outputEl = gd.closest('.output');\n",
       "if (outputEl) {{\n",
       "    x.observe(outputEl, {childList: true});\n",
       "}}\n",
       "\n",
       "                        })\n",
       "                };\n",
       "                });\n",
       "            </script>\n",
       "        </div>"
      ]
     },
     "metadata": {},
     "output_type": "display_data"
    }
   ],
   "source": [
    "scatter_expected = go.Scatter(x=sampled_df['budget_2013$'], \n",
    "                              y = est_y, \n",
    "                              hovertext = sampled_df['title'], \n",
    "                              mode = 'markers', \n",
    "                              name = 'predicted',\n",
    "                              opacity = .5)\n",
    "\n",
    "\n",
    "scatter_actual = go.Scatter(x =sampled_df['budget_2013$'], \n",
    "                            y = sampled_df['intgross_2013$'], \n",
    "                            hovertext = sampled_df['title'], \n",
    "                            mode = 'markers',\n",
    "                            name = 'actual')\n",
    "go.Figure(data = [scatter_actual, scatter_expected])"
   ]
  },
  {
   "cell_type": "code",
   "execution_count": 120,
   "metadata": {},
   "outputs": [
    {
     "data": {
      "image/svg+xml": [
       "<?xml version=\"1.0\" encoding=\"UTF-8\" standalone=\"no\"?>\n",
       "<!DOCTYPE svg PUBLIC \"-//W3C//DTD SVG 1.1//EN\"\n",
       " \"http://www.w3.org/Graphics/SVG/1.1/DTD/svg11.dtd\">\n",
       "<!-- Generated by graphviz version 2.43.0 (0)\n",
       " -->\n",
       "<!-- Title: Tree Pages: 1 -->\n",
       "<svg width=\"872pt\" height=\"344pt\"\n",
       " viewBox=\"0.00 0.00 871.56 344.00\" xmlns=\"http://www.w3.org/2000/svg\" xmlns:xlink=\"http://www.w3.org/1999/xlink\">\n",
       "<g id=\"graph0\" class=\"graph\" transform=\"scale(1 1) rotate(0) translate(4 340)\">\n",
       "<title>Tree</title>\n",
       "<polygon fill=\"white\" stroke=\"transparent\" points=\"-4,4 -4,-340 867.56,-340 867.56,4 -4,4\"/>\n",
       "<!-- 0 -->\n",
       "<g id=\"node1\" class=\"node\">\n",
       "<title>0</title>\n",
       "<polygon fill=\"none\" stroke=\"black\" points=\"533.58,-336 336.47,-336 336.47,-272 533.58,-272 533.58,-336\"/>\n",
       "<text text-anchor=\"middle\" x=\"435.03\" y=\"-320.8\" font-family=\"Times,serif\" font-size=\"14.00\">budget_2013$ &lt;= 108684108.0</text>\n",
       "<text text-anchor=\"middle\" x=\"435.03\" y=\"-306.8\" font-family=\"Times,serif\" font-size=\"14.00\">mse = 8.033167718683069e+16</text>\n",
       "<text text-anchor=\"middle\" x=\"435.03\" y=\"-292.8\" font-family=\"Times,serif\" font-size=\"14.00\">samples = 1783</text>\n",
       "<text text-anchor=\"middle\" x=\"435.03\" y=\"-278.8\" font-family=\"Times,serif\" font-size=\"14.00\">value = 197837984.969</text>\n",
       "</g>\n",
       "<!-- 1 -->\n",
       "<g id=\"node2\" class=\"node\">\n",
       "<title>1</title>\n",
       "<polygon fill=\"none\" stroke=\"black\" points=\"422.58,-236 225.47,-236 225.47,-172 422.58,-172 422.58,-236\"/>\n",
       "<text text-anchor=\"middle\" x=\"324.03\" y=\"-220.8\" font-family=\"Times,serif\" font-size=\"14.00\">budget_2013$ &lt;= 38804936.0</text>\n",
       "<text text-anchor=\"middle\" x=\"324.03\" y=\"-206.8\" font-family=\"Times,serif\" font-size=\"14.00\">mse = 4.450519366263581e+16</text>\n",
       "<text text-anchor=\"middle\" x=\"324.03\" y=\"-192.8\" font-family=\"Times,serif\" font-size=\"14.00\">samples = 1519</text>\n",
       "<text text-anchor=\"middle\" x=\"324.03\" y=\"-178.8\" font-family=\"Times,serif\" font-size=\"14.00\">value = 139138644.102</text>\n",
       "</g>\n",
       "<!-- 0&#45;&gt;1 -->\n",
       "<g id=\"edge1\" class=\"edge\">\n",
       "<title>0&#45;&gt;1</title>\n",
       "<path fill=\"none\" stroke=\"black\" d=\"M399.91,-271.99C389.48,-262.79 377.94,-252.6 367.07,-243\"/>\n",
       "<polygon fill=\"black\" stroke=\"black\" points=\"369.11,-240.14 359.3,-236.14 364.48,-245.38 369.11,-240.14\"/>\n",
       "<text text-anchor=\"middle\" x=\"360.85\" y=\"-256.89\" font-family=\"Times,serif\" font-size=\"14.00\">True</text>\n",
       "</g>\n",
       "<!-- 1972 -->\n",
       "<g id=\"node9\" class=\"node\">\n",
       "<title>1972</title>\n",
       "<polygon fill=\"none\" stroke=\"black\" points=\"647.57,-236 444.48,-236 444.48,-172 647.57,-172 647.57,-236\"/>\n",
       "<text text-anchor=\"middle\" x=\"546.03\" y=\"-220.8\" font-family=\"Times,serif\" font-size=\"14.00\">budget_2013$ &lt;= 284636608.0</text>\n",
       "<text text-anchor=\"middle\" x=\"546.03\" y=\"-206.8\" font-family=\"Times,serif\" font-size=\"14.00\">mse = 1.5257363011072355e+17</text>\n",
       "<text text-anchor=\"middle\" x=\"546.03\" y=\"-192.8\" font-family=\"Times,serif\" font-size=\"14.00\">samples = 264</text>\n",
       "<text text-anchor=\"middle\" x=\"546.03\" y=\"-178.8\" font-family=\"Times,serif\" font-size=\"14.00\">value = 535581540.939</text>\n",
       "</g>\n",
       "<!-- 0&#45;&gt;1972 -->\n",
       "<g id=\"edge8\" class=\"edge\">\n",
       "<title>0&#45;&gt;1972</title>\n",
       "<path fill=\"none\" stroke=\"black\" d=\"M470.15,-271.99C480.58,-262.79 492.12,-252.6 502.98,-243\"/>\n",
       "<polygon fill=\"black\" stroke=\"black\" points=\"505.57,-245.38 510.75,-236.14 500.94,-240.14 505.57,-245.38\"/>\n",
       "<text text-anchor=\"middle\" x=\"509.2\" y=\"-256.89\" font-family=\"Times,serif\" font-size=\"14.00\">False</text>\n",
       "</g>\n",
       "<!-- 2 -->\n",
       "<g id=\"node3\" class=\"node\">\n",
       "<title>2</title>\n",
       "<polygon fill=\"none\" stroke=\"black\" points=\"204.08,-136 -0.03,-136 -0.03,-72 204.08,-72 204.08,-136\"/>\n",
       "<text text-anchor=\"middle\" x=\"102.03\" y=\"-120.8\" font-family=\"Times,serif\" font-size=\"14.00\">year &lt;= 1991.5</text>\n",
       "<text text-anchor=\"middle\" x=\"102.03\" y=\"-106.8\" font-family=\"Times,serif\" font-size=\"14.00\">mse = 1.9617680679013936e+16</text>\n",
       "<text text-anchor=\"middle\" x=\"102.03\" y=\"-92.8\" font-family=\"Times,serif\" font-size=\"14.00\">samples = 924</text>\n",
       "<text text-anchor=\"middle\" x=\"102.03\" y=\"-78.8\" font-family=\"Times,serif\" font-size=\"14.00\">value = 84853977.018</text>\n",
       "</g>\n",
       "<!-- 1&#45;&gt;2 -->\n",
       "<g id=\"edge2\" class=\"edge\">\n",
       "<title>1&#45;&gt;2</title>\n",
       "<path fill=\"none\" stroke=\"black\" d=\"M253.79,-171.99C230.91,-161.89 205.35,-150.61 181.83,-140.23\"/>\n",
       "<polygon fill=\"black\" stroke=\"black\" points=\"183.14,-136.98 172.58,-136.14 180.31,-143.38 183.14,-136.98\"/>\n",
       "</g>\n",
       "<!-- 1233 -->\n",
       "<g id=\"node6\" class=\"node\">\n",
       "<title>1233</title>\n",
       "<polygon fill=\"none\" stroke=\"black\" points=\"425.57,-136 222.48,-136 222.48,-72 425.57,-72 425.57,-136\"/>\n",
       "<text text-anchor=\"middle\" x=\"324.03\" y=\"-120.8\" font-family=\"Times,serif\" font-size=\"14.00\">year &lt;= 1977.5</text>\n",
       "<text text-anchor=\"middle\" x=\"324.03\" y=\"-106.8\" font-family=\"Times,serif\" font-size=\"14.00\">mse = 7.1471150489456296e+16</text>\n",
       "<text text-anchor=\"middle\" x=\"324.03\" y=\"-92.8\" font-family=\"Times,serif\" font-size=\"14.00\">samples = 595</text>\n",
       "<text text-anchor=\"middle\" x=\"324.03\" y=\"-78.8\" font-family=\"Times,serif\" font-size=\"14.00\">value = 223439538.867</text>\n",
       "</g>\n",
       "<!-- 1&#45;&gt;1233 -->\n",
       "<g id=\"edge5\" class=\"edge\">\n",
       "<title>1&#45;&gt;1233</title>\n",
       "<path fill=\"none\" stroke=\"black\" d=\"M324.03,-171.99C324.03,-163.86 324.03,-154.96 324.03,-146.38\"/>\n",
       "<polygon fill=\"black\" stroke=\"black\" points=\"327.53,-146.14 324.03,-136.14 320.53,-146.14 327.53,-146.14\"/>\n",
       "</g>\n",
       "<!-- 3 -->\n",
       "<g id=\"node4\" class=\"node\">\n",
       "<title>3</title>\n",
       "<polygon fill=\"none\" stroke=\"black\" points=\"93.03,-36 39.03,-36 39.03,0 93.03,0 93.03,-36\"/>\n",
       "<text text-anchor=\"middle\" x=\"66.03\" y=\"-13.8\" font-family=\"Times,serif\" font-size=\"14.00\">(...)</text>\n",
       "</g>\n",
       "<!-- 2&#45;&gt;3 -->\n",
       "<g id=\"edge3\" class=\"edge\">\n",
       "<title>2&#45;&gt;3</title>\n",
       "<path fill=\"none\" stroke=\"black\" d=\"M88.62,-71.72C84.94,-63.14 80.99,-53.92 77.44,-45.62\"/>\n",
       "<polygon fill=\"black\" stroke=\"black\" points=\"80.64,-44.22 73.49,-36.4 74.21,-46.98 80.64,-44.22\"/>\n",
       "</g>\n",
       "<!-- 212 -->\n",
       "<g id=\"node5\" class=\"node\">\n",
       "<title>212</title>\n",
       "<polygon fill=\"none\" stroke=\"black\" points=\"165.03,-36 111.03,-36 111.03,0 165.03,0 165.03,-36\"/>\n",
       "<text text-anchor=\"middle\" x=\"138.03\" y=\"-13.8\" font-family=\"Times,serif\" font-size=\"14.00\">(...)</text>\n",
       "</g>\n",
       "<!-- 2&#45;&gt;212 -->\n",
       "<g id=\"edge4\" class=\"edge\">\n",
       "<title>2&#45;&gt;212</title>\n",
       "<path fill=\"none\" stroke=\"black\" d=\"M115.43,-71.72C119.11,-63.14 123.06,-53.92 126.62,-45.62\"/>\n",
       "<polygon fill=\"black\" stroke=\"black\" points=\"129.85,-46.98 130.57,-36.4 123.41,-44.22 129.85,-46.98\"/>\n",
       "</g>\n",
       "<!-- 1234 -->\n",
       "<g id=\"node7\" class=\"node\">\n",
       "<title>1234</title>\n",
       "<polygon fill=\"none\" stroke=\"black\" points=\"315.03,-36 261.03,-36 261.03,0 315.03,0 315.03,-36\"/>\n",
       "<text text-anchor=\"middle\" x=\"288.03\" y=\"-13.8\" font-family=\"Times,serif\" font-size=\"14.00\">(...)</text>\n",
       "</g>\n",
       "<!-- 1233&#45;&gt;1234 -->\n",
       "<g id=\"edge6\" class=\"edge\">\n",
       "<title>1233&#45;&gt;1234</title>\n",
       "<path fill=\"none\" stroke=\"black\" d=\"M310.62,-71.72C306.94,-63.14 302.99,-53.92 299.44,-45.62\"/>\n",
       "<polygon fill=\"black\" stroke=\"black\" points=\"302.64,-44.22 295.49,-36.4 296.21,-46.98 302.64,-44.22\"/>\n",
       "</g>\n",
       "<!-- 1255 -->\n",
       "<g id=\"node8\" class=\"node\">\n",
       "<title>1255</title>\n",
       "<polygon fill=\"none\" stroke=\"black\" points=\"387.03,-36 333.03,-36 333.03,0 387.03,0 387.03,-36\"/>\n",
       "<text text-anchor=\"middle\" x=\"360.03\" y=\"-13.8\" font-family=\"Times,serif\" font-size=\"14.00\">(...)</text>\n",
       "</g>\n",
       "<!-- 1233&#45;&gt;1255 -->\n",
       "<g id=\"edge7\" class=\"edge\">\n",
       "<title>1233&#45;&gt;1255</title>\n",
       "<path fill=\"none\" stroke=\"black\" d=\"M337.43,-71.72C341.11,-63.14 345.06,-53.92 348.62,-45.62\"/>\n",
       "<polygon fill=\"black\" stroke=\"black\" points=\"351.85,-46.98 352.57,-36.4 345.41,-44.22 351.85,-46.98\"/>\n",
       "</g>\n",
       "<!-- 1973 -->\n",
       "<g id=\"node10\" class=\"node\">\n",
       "<title>1973</title>\n",
       "<polygon fill=\"none\" stroke=\"black\" points=\"648.08,-136 443.97,-136 443.97,-72 648.08,-72 648.08,-136\"/>\n",
       "<text text-anchor=\"middle\" x=\"546.03\" y=\"-120.8\" font-family=\"Times,serif\" font-size=\"14.00\">budget_2013$ &lt;= 156260040.0</text>\n",
       "<text text-anchor=\"middle\" x=\"546.03\" y=\"-106.8\" font-family=\"Times,serif\" font-size=\"14.00\">mse = 1.0274653128322496e+17</text>\n",
       "<text text-anchor=\"middle\" x=\"546.03\" y=\"-92.8\" font-family=\"Times,serif\" font-size=\"14.00\">samples = 260</text>\n",
       "<text text-anchor=\"middle\" x=\"546.03\" y=\"-78.8\" font-family=\"Times,serif\" font-size=\"14.00\">value = 513470994.942</text>\n",
       "</g>\n",
       "<!-- 1972&#45;&gt;1973 -->\n",
       "<g id=\"edge9\" class=\"edge\">\n",
       "<title>1972&#45;&gt;1973</title>\n",
       "<path fill=\"none\" stroke=\"black\" d=\"M546.03,-171.99C546.03,-163.86 546.03,-154.96 546.03,-146.38\"/>\n",
       "<polygon fill=\"black\" stroke=\"black\" points=\"549.53,-146.14 546.03,-136.14 542.53,-146.14 549.53,-146.14\"/>\n",
       "</g>\n",
       "<!-- 2354 -->\n",
       "<g id=\"node13\" class=\"node\">\n",
       "<title>2354</title>\n",
       "<polygon fill=\"none\" stroke=\"black\" points=\"863.58,-136 666.47,-136 666.47,-72 863.58,-72 863.58,-136\"/>\n",
       "<text text-anchor=\"middle\" x=\"765.03\" y=\"-120.8\" font-family=\"Times,serif\" font-size=\"14.00\">year &lt;= 1984.0</text>\n",
       "<text text-anchor=\"middle\" x=\"765.03\" y=\"-106.8\" font-family=\"Times,serif\" font-size=\"14.00\">mse = 1.294055965897194e+18</text>\n",
       "<text text-anchor=\"middle\" x=\"765.03\" y=\"-92.8\" font-family=\"Times,serif\" font-size=\"14.00\">samples = 4</text>\n",
       "<text text-anchor=\"middle\" x=\"765.03\" y=\"-78.8\" font-family=\"Times,serif\" font-size=\"14.00\">value = 1972767030.75</text>\n",
       "</g>\n",
       "<!-- 1972&#45;&gt;2354 -->\n",
       "<g id=\"edge12\" class=\"edge\">\n",
       "<title>1972&#45;&gt;2354</title>\n",
       "<path fill=\"none\" stroke=\"black\" d=\"M615.32,-171.99C637.79,-161.94 662.88,-150.71 686,-140.36\"/>\n",
       "<polygon fill=\"black\" stroke=\"black\" points=\"687.74,-143.42 695.43,-136.14 684.88,-137.03 687.74,-143.42\"/>\n",
       "</g>\n",
       "<!-- 1974 -->\n",
       "<g id=\"node11\" class=\"node\">\n",
       "<title>1974</title>\n",
       "<polygon fill=\"none\" stroke=\"black\" points=\"537.03,-36 483.03,-36 483.03,0 537.03,0 537.03,-36\"/>\n",
       "<text text-anchor=\"middle\" x=\"510.03\" y=\"-13.8\" font-family=\"Times,serif\" font-size=\"14.00\">(...)</text>\n",
       "</g>\n",
       "<!-- 1973&#45;&gt;1974 -->\n",
       "<g id=\"edge10\" class=\"edge\">\n",
       "<title>1973&#45;&gt;1974</title>\n",
       "<path fill=\"none\" stroke=\"black\" d=\"M532.62,-71.72C528.94,-63.14 524.99,-53.92 521.44,-45.62\"/>\n",
       "<polygon fill=\"black\" stroke=\"black\" points=\"524.64,-44.22 517.49,-36.4 518.21,-46.98 524.64,-44.22\"/>\n",
       "</g>\n",
       "<!-- 2181 -->\n",
       "<g id=\"node12\" class=\"node\">\n",
       "<title>2181</title>\n",
       "<polygon fill=\"none\" stroke=\"black\" points=\"609.03,-36 555.03,-36 555.03,0 609.03,0 609.03,-36\"/>\n",
       "<text text-anchor=\"middle\" x=\"582.03\" y=\"-13.8\" font-family=\"Times,serif\" font-size=\"14.00\">(...)</text>\n",
       "</g>\n",
       "<!-- 1973&#45;&gt;2181 -->\n",
       "<g id=\"edge11\" class=\"edge\">\n",
       "<title>1973&#45;&gt;2181</title>\n",
       "<path fill=\"none\" stroke=\"black\" d=\"M559.43,-71.72C563.11,-63.14 567.06,-53.92 570.62,-45.62\"/>\n",
       "<polygon fill=\"black\" stroke=\"black\" points=\"573.85,-46.98 574.57,-36.4 567.41,-44.22 573.85,-46.98\"/>\n",
       "</g>\n",
       "<!-- 2355 -->\n",
       "<g id=\"node14\" class=\"node\">\n",
       "<title>2355</title>\n",
       "<polygon fill=\"none\" stroke=\"black\" points=\"756.03,-36 702.03,-36 702.03,0 756.03,0 756.03,-36\"/>\n",
       "<text text-anchor=\"middle\" x=\"729.03\" y=\"-13.8\" font-family=\"Times,serif\" font-size=\"14.00\">(...)</text>\n",
       "</g>\n",
       "<!-- 2354&#45;&gt;2355 -->\n",
       "<g id=\"edge13\" class=\"edge\">\n",
       "<title>2354&#45;&gt;2355</title>\n",
       "<path fill=\"none\" stroke=\"black\" d=\"M751.62,-71.72C747.94,-63.14 743.99,-53.92 740.44,-45.62\"/>\n",
       "<polygon fill=\"black\" stroke=\"black\" points=\"743.64,-44.22 736.49,-36.4 737.21,-46.98 743.64,-44.22\"/>\n",
       "</g>\n",
       "<!-- 2356 -->\n",
       "<g id=\"node15\" class=\"node\">\n",
       "<title>2356</title>\n",
       "<polygon fill=\"none\" stroke=\"black\" points=\"828.03,-36 774.03,-36 774.03,0 828.03,0 828.03,-36\"/>\n",
       "<text text-anchor=\"middle\" x=\"801.03\" y=\"-13.8\" font-family=\"Times,serif\" font-size=\"14.00\">(...)</text>\n",
       "</g>\n",
       "<!-- 2354&#45;&gt;2356 -->\n",
       "<g id=\"edge14\" class=\"edge\">\n",
       "<title>2354&#45;&gt;2356</title>\n",
       "<path fill=\"none\" stroke=\"black\" d=\"M778.43,-71.72C782.11,-63.14 786.06,-53.92 789.62,-45.62\"/>\n",
       "<polygon fill=\"black\" stroke=\"black\" points=\"792.85,-46.98 793.57,-36.4 786.41,-44.22 792.85,-46.98\"/>\n",
       "</g>\n",
       "</g>\n",
       "</svg>\n"
      ],
      "text/plain": [
       "<graphviz.files.Source at 0x1a2860b490>"
      ]
     },
     "execution_count": 120,
     "metadata": {},
     "output_type": "execute_result"
    }
   ],
   "source": [
    "from dtreeviz.trees import dtreeviz\n",
    "from sklearn import tree\n",
    "from IPython.display import SVG, display\n",
    "from graphviz import Source \n",
    "\n",
    "Source(tree.export_graphviz(model, out_file = None, feature_names=X.columns, max_depth = 2))"
   ]
  },
  {
   "cell_type": "code",
   "execution_count": null,
   "metadata": {},
   "outputs": [],
   "source": []
  }
 ],
 "metadata": {
  "kernelspec": {
   "display_name": "Python 3",
   "language": "python",
   "name": "python3"
  },
  "language_info": {
   "codemirror_mode": {
    "name": "ipython",
    "version": 3
   },
   "file_extension": ".py",
   "mimetype": "text/x-python",
   "name": "python",
   "nbconvert_exporter": "python",
   "pygments_lexer": "ipython3",
   "version": "3.7.4"
  }
 },
 "nbformat": 4,
 "nbformat_minor": 4
}
