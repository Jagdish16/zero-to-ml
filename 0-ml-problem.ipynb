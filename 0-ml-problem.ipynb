{
 "cells": [
  {
   "cell_type": "markdown",
   "metadata": {},
   "source": [
    "# The machine learning problem"
   ]
  },
  {
   "cell_type": "markdown",
   "metadata": {},
   "source": [
    "### Introduction"
   ]
  },
  {
   "cell_type": "markdown",
   "metadata": {},
   "source": [
    "What does machine learning really mean?  How does it differ from computer programming?  In this lesson we'll start answering these questions."
   ]
  },
  {
   "cell_type": "markdown",
   "metadata": {},
   "source": [
    "### A classic computer programming problem"
   ]
  },
  {
   "cell_type": "markdown",
   "metadata": {},
   "source": [
    "Before understanding what the machine learning problem, let's consider the classic computer programming problem.   This is the problem that standard computer programming is designed to solve."
   ]
  },
  {
   "cell_type": "markdown",
   "metadata": {},
   "source": [
    "1. First, understand a real world procedure, or set of rules\n",
    "2. Then, translate those rules into code, so that code can automate that process"
   ]
  },
  {
   "cell_type": "markdown",
   "metadata": {},
   "source": [
    "For example, let's assume that we are writing a computer program to see if someone is qualified for a driver's license.  The standard legal driving age is 16 years old.  \n",
    "\n",
    "Let's translate this into code."
   ]
  },
  {
   "cell_type": "code",
   "execution_count": 1,
   "metadata": {},
   "outputs": [],
   "source": [
    "def legal_driving_age(age):\n",
    "    return age >= 16"
   ]
  },
  {
   "cell_type": "code",
   "execution_count": 2,
   "metadata": {},
   "outputs": [
    {
     "data": {
      "text/plain": [
       "True"
      ]
     },
     "execution_count": 2,
     "metadata": {},
     "output_type": "execute_result"
    }
   ],
   "source": [
    "legal_driving_age(14)\n",
    "# False\n",
    "legal_driving_age(16)\n",
    "# True"
   ]
  },
  {
   "cell_type": "markdown",
   "metadata": {},
   "source": [
    "### The limits of coding"
   ]
  },
  {
   "cell_type": "markdown",
   "metadata": {},
   "source": [
    "Now let's try to write a new program.  \n",
    "\n",
    "Let's write a program that predicts expected amount damage in US dollars to be caused by a given driver."
   ]
  },
  {
   "cell_type": "code",
   "execution_count": 3,
   "metadata": {},
   "outputs": [],
   "source": [
    "# go for it"
   ]
  },
  {
   "cell_type": "markdown",
   "metadata": {},
   "source": [
    "Do you see the difference?  With the `legal_driving_age` function, we know that the input to the function is `age`, and we can then use a person's age to determine if he can legally drive.  But with the expected damage caused by a driver problem, we have questions. \n",
    "1. What are the inputs to our function?\n",
    "    * The driver's age, past driving history, city she drives in, car she drives\n",
    "2. And then how do each of these factors combine?  "
   ]
  },
  {
   "cell_type": "markdown",
   "metadata": {},
   "source": [
    "So unlike our legal driving age problem, \n",
    "\n",
    "> *with our machine learning problem, we do not start off knowing the underlying logic that determines the outcome.* "
   ]
  },
  {
   "cell_type": "markdown",
   "metadata": {},
   "source": [
    "Let's move beyond driving.  Here are some other problems we may want to solve: \n",
    "* Will there will be a hurricane in Miami on a given day?\n",
    "* Will a job applicant be a match for an employer?  \n",
    "* What is the expected earnings of a product?\n",
    "* How much will an ad campaign boost sales?  \n",
    "\n",
    "These are all problems that first where we first need to discover the important inputs, and the combination of these inputs before to answer these questions with code.  \n",
    "\n",
    "> With **machine learning**, we try to *discover a procedure* that allows us to predict (and often understand) the occurrence of a real world phenomenon.  \n",
    "\n",
    "> With **traditional programming**, we try to *automate a known procedure* by translating it into code.\n",
    "\n",
    "In the next lesson, we'll see the machine learning process for doing this."
   ]
  },
  {
   "cell_type": "markdown",
   "metadata": {},
   "source": [
    "### Summary\n",
    "\n",
    "In this lesson, we saw learned the types of problems that machine learning can help us solve.  We saw this in comparison to coding.  In standard programming, the programming work begins after understanding a set of rules.  With machine learning, we are trying to make a prediction of if something will occur, and do not start off knowing how to make that prediction.  We use machine learning to discover how to predict whether something will occur.  "
   ]
  }
 ],
 "metadata": {
  "kernelspec": {
   "display_name": "Python 3",
   "language": "python",
   "name": "python3"
  },
  "language_info": {
   "codemirror_mode": {
    "name": "ipython",
    "version": 3
   },
   "file_extension": ".py",
   "mimetype": "text/x-python",
   "name": "python",
   "nbconvert_exporter": "python",
   "pygments_lexer": "ipython3",
   "version": "3.7.4"
  }
 },
 "nbformat": 4,
 "nbformat_minor": 4
}
