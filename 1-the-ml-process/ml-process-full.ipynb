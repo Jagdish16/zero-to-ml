{
 "cells": [
  {
   "cell_type": "markdown",
   "metadata": {},
   "source": [
    "# The steps of machine learning"
   ]
  },
  {
   "cell_type": "markdown",
   "metadata": {},
   "source": [
    "### Introduction"
   ]
  },
  {
   "cell_type": "markdown",
   "metadata": {},
   "source": [
    "Through our brief tour of linear regression, we explored the steps that define any machine learning algorithm.  A machine learning algorithm:\n",
    "\n",
    "* uses **data** \n",
    "* to find the parameters of a **hypothesis function**\n",
    "* that minimize the output of our **loss function**\n",
    "* by using an **optimization procedure**\n",
    "\n",
    "Let's review each of these components in turn, starting with the data."
   ]
  },
  {
   "cell_type": "markdown",
   "metadata": {},
   "source": [
    "### 1. Gather the data\n",
    "\n",
    "\n",
    "Whenever we are faced with a machine learning algorithm, our first step is to gather data related to the outcome we are trying to predict.  In our previous example, that outcome was the T-shirt sales.  How many T-shirt sales would be sold in the next month.  For the purpose of keeping our model simple, we only considered as an input the amount spent on advertising to predict T-shirt sales.  The other component that we looked at were the *answers* - that is we looked at the related monthly sales for each of the campaigns."
   ]
  },
  {
   "cell_type": "markdown",
   "metadata": {},
   "source": [
    "> Caveat: We only look at the *answers* in supervised learning problems.  But it's ok to ignore that distinction for now, supervised learning is the main type of machine learning we will explore in this course, and we'll explain the distinction further down the line."
   ]
  },
  {
   "cell_type": "markdown",
   "metadata": {},
   "source": [
    "This is our data of the inputs and the related outputs of our observed data."
   ]
  },
  {
   "cell_type": "markdown",
   "metadata": {},
   "source": [
    "| spending        | t-shirts           \n",
    "| ------------- |:-------------:| \n",
    "|    2000        |380  | \n",
    "|    3500        |445 | \n",
    "|    4000      | 490 | "
   ]
  },
  {
   "cell_type": "markdown",
   "metadata": {},
   "source": [
    "We'll call this data our **training data**."
   ]
  },
  {
   "cell_type": "markdown",
   "metadata": {},
   "source": [
    "The first step of in machine learning is to gather our training data.  \n",
    "\n",
    "> Our **training data** is a set of previous examples or observations, almost like a series of experiments.  \n",
    "\n",
    "Our training data includes: \n",
    "\n",
    "1. Potential inputs to what we are trying to predict, and \n",
    "2. The past outcomes associated with these different inputs"
   ]
  },
  {
   "cell_type": "markdown",
   "metadata": {},
   "source": [
    "| input        | output           \n",
    "| ------------- |:-------------:| \n",
    "|    past input 1        | past outcome 1 | \n",
    "|    past input 2        | past outcome 2 | "
   ]
  },
  {
   "cell_type": "markdown",
   "metadata": {},
   "source": [
    "Another word we'll use for training data is **observations**.  So the first row of our `spending` `t-shirts` chart contains our first *observation*, where we observed spending of 2000 and sales of 380."
   ]
  },
  {
   "cell_type": "markdown",
   "metadata": {},
   "source": [
    "### 2. Find a hypothesis function"
   ]
  },
  {
   "cell_type": "markdown",
   "metadata": {},
   "source": [
    "#### A. Start with an initial hypothesis"
   ]
  },
  {
   "cell_type": "markdown",
   "metadata": {},
   "source": [
    "Now that we have our training data, which contains our inputs and outputs, we look to see if there is some association between these inputs and these outputs.  Let's plot our data to help us out.  We'll place ad spending on the x-axis and sales on the y-axis."
   ]
  },
  {
   "cell_type": "code",
   "execution_count": 18,
   "metadata": {},
   "outputs": [],
   "source": [
    "# !pip install chart_studio"
   ]
  },
  {
   "cell_type": "code",
   "execution_count": 17,
   "metadata": {},
   "outputs": [
    {
     "data": {
      "text/html": [
       "\n",
       "        <iframe\n",
       "            width=\"100%\"\n",
       "            height=\"525px\"\n",
       "            src=\"https://plot.ly/~JeffKatzy/300.embed\"\n",
       "            frameborder=\"0\"\n",
       "            allowfullscreen\n",
       "        ></iframe>\n",
       "        "
      ],
      "text/plain": [
       "<IPython.lib.display.IFrame at 0x12ced35f8>"
      ]
     },
     "execution_count": 17,
     "metadata": {},
     "output_type": "execute_result"
    }
   ],
   "source": [
    "import chart_studio.plotly as py\n",
    "import plotly.graph_objects as go\n",
    "scatter = go.Scatter(x=[2000, 3500, 4000], y=[260, 445, 490], name = 'actual sales', mode='markers')\n",
    "py.iplot([scatter])"
   ]
  },
  {
   "cell_type": "markdown",
   "metadata": {},
   "source": [
    "So looking at the input data of ad spending and the outputs of the sales, there does appear to be an association between the two.  Let's come up with a hypothesis function.  \n",
    "\n",
    "> Our **hypothesis function** takes in inputs of our training data, and *comes close* to returning the observed outputs. "
   ]
  },
  {
   "cell_type": "markdown",
   "metadata": {},
   "source": [
    "Now normally we'll use a computer program to create a hypothesis function.  But, for now, let's just guess the relationship and write it down.  Here's our guess:"
   ]
  },
  {
   "cell_type": "markdown",
   "metadata": {},
   "source": [
    "$$ tshirts\\_sold =.15∗ad\\_spend $$"
   ]
  },
  {
   "cell_type": "markdown",
   "metadata": {},
   "source": [
    "#### B. Evaluate that hypothesis function"
   ]
  },
  {
   "cell_type": "markdown",
   "metadata": {},
   "source": [
    "To tell whether this hypothesis function is any good, we take a look at how it would perform against our training data from our table.\n",
    "\n",
    "We do this by comparing what our the sales predictions of our model to what we actually observed.  We get the predictions by inputting our ad_spend amounts into our hypothesis function.  We'll add this to a column next to the actual sales results."
   ]
  },
  {
   "cell_type": "markdown",
   "metadata": {},
   "source": [
    "| spending        | actual t-shirt sales | expected t-shirt sales           \n",
    "| ------------- |:-------------:| :-------------:| \n",
    "|    2000        |260  | 300  | \n",
    "|    3500        |445 | 525 | \n",
    "|    4000      | 490 | 600 | "
   ]
  },
  {
   "cell_type": "markdown",
   "metadata": {},
   "source": [
    "And we can plot the predictions of our hypothesis function alongside our actual data."
   ]
  },
  {
   "cell_type": "code",
   "execution_count": 5,
   "metadata": {},
   "outputs": [
    {
     "data": {
      "application/vnd.plotly.v1+json": {
       "config": {
        "linkText": "Export to plot.ly",
        "plotlyServerURL": "https://plot.ly",
        "showLink": false
       },
       "data": [
        {
         "mode": "markers",
         "name": "actual sales",
         "text": [],
         "type": "scatter",
         "uid": "c027b8a6-2131-4183-98e3-e95eb6f0af2a",
         "x": [
          2000,
          3500,
          4000
         ],
         "y": [
          260,
          445,
          490
         ]
        },
        {
         "mode": "lines",
         "name": "predictions",
         "text": [],
         "type": "scatter",
         "uid": "38c7de50-07ee-416a-ab27-0701fd09584b",
         "x": [
          1500,
          1750,
          2000,
          2250,
          2500,
          2750,
          3000,
          3250,
          3500,
          3750,
          4000,
          4250
         ],
         "y": [
          225,
          262.5,
          300,
          337.5,
          375,
          412.5,
          450,
          487.5,
          525,
          562.5,
          600,
          637.5
         ]
        },
        {
         "hoverinfo": "none",
         "marker": {
          "color": "red"
         },
         "mode": "lines",
         "name": "error at 2000",
         "text": [
          "-40"
         ],
         "textposition": "top right",
         "type": "scatter",
         "uid": "5074177b-cd3a-414c-82ad-cde9bb612820",
         "x": [
          2000,
          2000
         ],
         "y": [
          300,
          260
         ]
        },
        {
         "hoverinfo": "none",
         "marker": {
          "color": "red"
         },
         "mode": "lines",
         "name": "error at 3500",
         "text": [
          "-80"
         ],
         "textposition": "top right",
         "type": "scatter",
         "uid": "2c0ce15a-204d-4f95-a9a1-97d4b3285724",
         "x": [
          3500,
          3500
         ],
         "y": [
          525,
          445
         ]
        },
        {
         "hoverinfo": "none",
         "marker": {
          "color": "red"
         },
         "mode": "lines",
         "name": "error at 4000",
         "text": [
          "-110"
         ],
         "textposition": "top right",
         "type": "scatter",
         "uid": "b5b625f7-ad7b-4968-8be7-38c72ae754ae",
         "x": [
          4000,
          4000
         ],
         "y": [
          600,
          490
         ]
        }
       ],
       "layout": {
        "autosize": true,
        "xaxis": {
         "autorange": true,
         "range": [
          1500,
          4250
         ],
         "type": "linear"
        },
        "yaxis": {
         "autorange": true,
         "range": [
          202.08333333333334,
          660.4166666666666
         ],
         "type": "linear"
        }
       }
      },
      "image/png": "[encoded data removed]",
      "text/html": [
       "<div>\n",
       "        \n",
       "        \n",
       "            <div id=\"cf038fa1-23db-41fe-a173-7abe930e1645\" class=\"plotly-graph-div\" style=\"height:525px; width:100%;\"></div>\n",
       "            <script type=\"text/javascript\">\n",
       "                require([\"plotly\"], function(Plotly) {\n",
       "                    window.PLOTLYENV=window.PLOTLYENV || {};\n",
       "                    window.PLOTLYENV.BASE_URL='https://plot.ly';\n",
       "                    \n",
       "                if (document.getElementById(\"cf038fa1-23db-41fe-a173-7abe930e1645\")) {\n",
       "                    Plotly.newPlot(\n",
       "                        'cf038fa1-23db-41fe-a173-7abe930e1645',\n",
       "                        [{\"mode\": \"markers\", \"name\": \"actual sales\", \"text\": [], \"type\": \"scatter\", \"uid\": \"c027b8a6-2131-4183-98e3-e95eb6f0af2a\", \"x\": [2000, 3500, 4000], \"y\": [260, 445, 490]}, {\"mode\": \"lines\", \"name\": \"predictions\", \"text\": [], \"type\": \"scatter\", \"uid\": \"38c7de50-07ee-416a-ab27-0701fd09584b\", \"x\": [1500, 1750, 2000, 2250, 2500, 2750, 3000, 3250, 3500, 3750, 4000, 4250], \"y\": [225.0, 262.5, 300.0, 337.5, 375.0, 412.5, 450.0, 487.5, 525.0, 562.5, 600.0, 637.5]}, {\"hoverinfo\": \"none\", \"marker\": {\"color\": \"red\"}, \"mode\": \"lines\", \"name\": \"error at 2000\", \"text\": [\"-40\"], \"textposition\": \"top right\", \"type\": \"scatter\", \"uid\": \"5074177b-cd3a-414c-82ad-cde9bb612820\", \"x\": [2000, 2000], \"y\": [300, 260]}, {\"hoverinfo\": \"none\", \"marker\": {\"color\": \"red\"}, \"mode\": \"lines\", \"name\": \"error at 3500\", \"text\": [\"-80\"], \"textposition\": \"top right\", \"type\": \"scatter\", \"uid\": \"2c0ce15a-204d-4f95-a9a1-97d4b3285724\", \"x\": [3500, 3500], \"y\": [525, 445]}, {\"hoverinfo\": \"none\", \"marker\": {\"color\": \"red\"}, \"mode\": \"lines\", \"name\": \"error at 4000\", \"text\": [\"-110\"], \"textposition\": \"top right\", \"type\": \"scatter\", \"uid\": \"b5b625f7-ad7b-4968-8be7-38c72ae754ae\", \"x\": [4000, 4000], \"y\": [600, 490]}],\n",
       "                        {},\n",
       "                        {\"showLink\": false, \"linkText\": \"Export to plot.ly\", \"plotlyServerURL\": \"https://plot.ly\", \"responsive\": true}\n",
       "                    ).then(function(){\n",
       "                            \n",
       "var gd = document.getElementById('cf038fa1-23db-41fe-a173-7abe930e1645');\n",
       "var x = new MutationObserver(function (mutations, observer) {{\n",
       "        var display = window.getComputedStyle(gd).display;\n",
       "        if (!display || display === 'none') {{\n",
       "            console.log([gd, 'removed!']);\n",
       "            Plotly.purge(gd);\n",
       "            observer.disconnect();\n",
       "        }}\n",
       "}});\n",
       "\n",
       "// Listen for the removal of the full notebook cells\n",
       "var notebookContainer = gd.closest('#notebook-container');\n",
       "if (notebookContainer) {{\n",
       "    x.observe(notebookContainer, {childList: true});\n",
       "}}\n",
       "\n",
       "// Listen for the clearing of the current output cell\n",
       "var outputEl = gd.closest('.output');\n",
       "if (outputEl) {{\n",
       "    x.observe(outputEl, {childList: true});\n",
       "}}\n",
       "\n",
       "                        })\n",
       "                };\n",
       "                });\n",
       "            </script>\n",
       "        </div>"
      ]
     },
     "metadata": {},
     "output_type": "display_data"
    }
   ],
   "source": [
    "from graph import trace_values, plot\n",
    "from error import error_line_traces\n",
    "from data import data_trace\n",
    "inputs = list(range(1500, 4500, 250))\n",
    "predictions = list(map(lambda input: .15*input,inputs))\n",
    "predictions_trace = trace_values(inputs, predictions, 'lines', name = 'predictions')\n",
    "errors = [-40, -80, -110]\n",
    "ad_spends = [2000, 3500, 4000]\n",
    "sales = [260, 445, 490]\n",
    "error_traces = error_line_traces(ad_spends, sales, errors)\n",
    "plot([data_trace, predictions_trace] + error_traces)"
   ]
  },
  {
   "cell_type": "markdown",
   "metadata": {},
   "source": [
    "Let's break down the plot above.  The orange line represents the predictions of our hypothesis function.  Given a shooting angle of .3 it predicts a distance of 40.  The blue dots represent the actual shooting angles and resulting distances that we saw.  And the red lines represent the difference between what we predicted and our actual distances for each corresponding angle."
   ]
  },
  {
   "cell_type": "markdown",
   "metadata": {},
   "source": [
    "Now remember that our goal in machine learning is to find a hypothesis function such that the outputs from our hypothesis function come *close* to our actual outputs.  Each red line represents how far away we were.  We can get our hypothesis funtion closer to the observed outputs.  Here's how."
   ]
  },
  {
   "cell_type": "markdown",
   "metadata": {},
   "source": [
    "### 3. Use a loss function"
   ]
  },
  {
   "cell_type": "markdown",
   "metadata": {},
   "source": [
    "#### Introducing the loss function\n",
    "\n",
    "Before getting our hypothesis function closer to our observations, we first quantify just how far away our hypothesis function is.  This way we can at least get a sense of how good or bad we are performing.\n",
    "\n",
    "We quantify how good or bad we are doing simply by using an error metric, and then summing together the error at each observed result.  This sum is called our **loss function**.\n",
    "\n",
    "| spending        | actual t-shirt sales | expected t-shirt sales | actual - expected|\n",
    "| ------------- |:-------------:| :-------------:| :-------------:| \n",
    "|    2000        |380           | 300                               | -40 |\n",
    "|    3500        |445           | 525                               | -80 | \n",
    "|    4000      | 490            | 600                              |  -110 |"
   ]
  },
  {
   "cell_type": "markdown",
   "metadata": {},
   "source": [
    "Above our $loss = -40 + -80 + -110 = -230$.\n",
    "\n",
    "Remember that this was for the hypothesis function $ sales =.15∗ad\\_spend $ that each of our predictions."
   ]
  },
  {
   "cell_type": "markdown",
   "metadata": {},
   "source": [
    "#### Use an optimization procedure to minimize the loss functoin"
   ]
  },
  {
   "cell_type": "markdown",
   "metadata": {},
   "source": [
    "Now the output of our loss function only applies to a specific hypothesis function.  We want to make the result of our loss function as close to zero as possible, so we need a way to minimize our loss function.  \n",
    "\n",
    "The way that we can do that is by finding the parameter -- above .15 is our parameter -- that minimizes our loss function.  Now our **optimization procedure** is how we find parameters that minimize our loss function.  There are different optimization procedures depending on the specific machine learning tool that we use - but here we can just do trial and error."
   ]
  },
  {
   "cell_type": "code",
   "execution_count": 1,
   "metadata": {},
   "outputs": [
    {
     "data": {
      "text/html": [
       "        <script type=\"text/javascript\">\n",
       "        window.PlotlyConfig = {MathJaxConfig: 'local'};\n",
       "        if (window.MathJax) {MathJax.Hub.Config({SVG: {font: \"STIX-Web\"}});}\n",
       "        if (typeof require !== 'undefined') {\n",
       "        require.undef(\"plotly\");\n",
       "        requirejs.config({\n",
       "            paths: {\n",
       "                'plotly': ['https://cdn.plot.ly/plotly-latest.min']\n",
       "            }\n",
       "        });\n",
       "        require(['plotly'], function(Plotly) {\n",
       "            window._Plotly = Plotly;\n",
       "        });\n",
       "        }\n",
       "        </script>\n",
       "        "
      ]
     },
     "metadata": {},
     "output_type": "display_data"
    },
    {
     "data": {
      "application/vnd.plotly.v1+json": {
       "config": {
        "linkText": "Export to plot.ly",
        "plotlyServerURL": "https://plot.ly",
        "showLink": false
       },
       "data": [
        {
         "mode": "markers",
         "name": "actual sales",
         "text": [],
         "type": "scatter",
         "uid": "3b6d396e-5641-40eb-a922-b79eba240e79",
         "x": [
          2000,
          3500,
          4000
         ],
         "y": [
          260,
          445,
          490
         ]
        },
        {
         "mode": "lines",
         "name": "predictions",
         "text": [],
         "type": "scatter",
         "uid": "7f6ac947-9d00-4b40-b0df-39d5af7f8ee0",
         "x": [
          2000,
          3500,
          4000
         ],
         "y": [
          300,
          525,
          600
         ]
        },
        {
         "hoverinfo": "none",
         "marker": {
          "color": "red"
         },
         "mode": "lines",
         "name": "error at 2000",
         "text": [
          "-40.0"
         ],
         "textposition": "top right",
         "type": "scatter",
         "uid": "fee294e6-1f55-40e3-bf9a-e57241f45e06",
         "x": [
          2000,
          2000
         ],
         "y": [
          300,
          260
         ]
        },
        {
         "hoverinfo": "none",
         "marker": {
          "color": "red"
         },
         "mode": "lines",
         "name": "error at 3500",
         "text": [
          "-80.0"
         ],
         "textposition": "top right",
         "type": "scatter",
         "uid": "d4e78e0d-bb32-4f3f-936e-7931014036d9",
         "x": [
          3500,
          3500
         ],
         "y": [
          525,
          445
         ]
        },
        {
         "hoverinfo": "none",
         "marker": {
          "color": "red"
         },
         "mode": "lines",
         "name": "error at 4000",
         "text": [
          "-110.0"
         ],
         "textposition": "top right",
         "type": "scatter",
         "uid": "0648e98b-014e-412f-9911-4aa41d0b7a0d",
         "x": [
          4000,
          4000
         ],
         "y": [
          600,
          490
         ]
        }
       ],
       "layout": {
        "autosize": true,
        "xaxis": {
         "autorange": true,
         "range": [
          1876.4547896150402,
          4123.545210384959
         ],
         "type": "linear"
        },
        "yaxis": {
         "autorange": true,
         "range": [
          235.4858934169279,
          619.1849529780565
         ],
         "type": "linear"
        }
       }
      },
      "image/png": "[encoded data removed]",
      "text/html": [
       "<div>\n",
       "        \n",
       "        \n",
       "            <div id=\"091f1b91-567b-4bb4-af10-fdcf0056a5ca\" class=\"plotly-graph-div\" style=\"height:525px; width:100%;\"></div>\n",
       "            <script type=\"text/javascript\">\n",
       "                require([\"plotly\"], function(Plotly) {\n",
       "                    window.PLOTLYENV=window.PLOTLYENV || {};\n",
       "                    window.PLOTLYENV.BASE_URL='https://plot.ly';\n",
       "                    \n",
       "                if (document.getElementById(\"091f1b91-567b-4bb4-af10-fdcf0056a5ca\")) {\n",
       "                    Plotly.newPlot(\n",
       "                        '091f1b91-567b-4bb4-af10-fdcf0056a5ca',\n",
       "                        [{\"mode\": \"markers\", \"name\": \"actual sales\", \"text\": [], \"type\": \"scatter\", \"uid\": \"3b6d396e-5641-40eb-a922-b79eba240e79\", \"x\": [2000, 3500, 4000], \"y\": [260, 445, 490]}, {\"mode\": \"lines\", \"name\": \"predictions\", \"text\": [], \"type\": \"scatter\", \"uid\": \"7f6ac947-9d00-4b40-b0df-39d5af7f8ee0\", \"x\": [2000, 3500, 4000], \"y\": [300.0, 525.0, 600.0]}, {\"hoverinfo\": \"none\", \"marker\": {\"color\": \"red\"}, \"mode\": \"lines\", \"name\": \"error at 2000\", \"text\": [\"-40.0\"], \"textposition\": \"top right\", \"type\": \"scatter\", \"uid\": \"fee294e6-1f55-40e3-bf9a-e57241f45e06\", \"x\": [2000, 2000], \"y\": [300.0, 260]}, {\"hoverinfo\": \"none\", \"marker\": {\"color\": \"red\"}, \"mode\": \"lines\", \"name\": \"error at 3500\", \"text\": [\"-80.0\"], \"textposition\": \"top right\", \"type\": \"scatter\", \"uid\": \"d4e78e0d-bb32-4f3f-936e-7931014036d9\", \"x\": [3500, 3500], \"y\": [525.0, 445]}, {\"hoverinfo\": \"none\", \"marker\": {\"color\": \"red\"}, \"mode\": \"lines\", \"name\": \"error at 4000\", \"text\": [\"-110.0\"], \"textposition\": \"top right\", \"type\": \"scatter\", \"uid\": \"0648e98b-014e-412f-9911-4aa41d0b7a0d\", \"x\": [4000, 4000], \"y\": [600.0, 490]}],\n",
       "                        {},\n",
       "                        {\"showLink\": false, \"linkText\": \"Export to plot.ly\", \"plotlyServerURL\": \"https://plot.ly\", \"responsive\": true}\n",
       "                    ).then(function(){\n",
       "                            \n",
       "var gd = document.getElementById('091f1b91-567b-4bb4-af10-fdcf0056a5ca');\n",
       "var x = new MutationObserver(function (mutations, observer) {{\n",
       "        var display = window.getComputedStyle(gd).display;\n",
       "        if (!display || display === 'none') {{\n",
       "            console.log([gd, 'removed!']);\n",
       "            Plotly.purge(gd);\n",
       "            observer.disconnect();\n",
       "        }}\n",
       "}});\n",
       "\n",
       "// Listen for the removal of the full notebook cells\n",
       "var notebookContainer = gd.closest('#notebook-container');\n",
       "if (notebookContainer) {{\n",
       "    x.observe(notebookContainer, {childList: true});\n",
       "}}\n",
       "\n",
       "// Listen for the clearing of the current output cell\n",
       "var outputEl = gd.closest('.output');\n",
       "if (outputEl) {{\n",
       "    x.observe(outputEl, {childList: true});\n",
       "}}\n",
       "\n",
       "                        })\n",
       "                };\n",
       "                });\n",
       "            </script>\n",
       "        </div>"
      ]
     },
     "metadata": {},
     "output_type": "display_data"
    }
   ],
   "source": [
    "from data import updated_model_with_errors\n",
    "\n",
    "parameter = .15\n",
    "updated_model_with_errors(parameter)"
   ]
  },
  {
   "cell_type": "markdown",
   "metadata": {},
   "source": [
    "### That's it"
   ]
  },
  {
   "cell_type": "markdown",
   "metadata": {},
   "source": [
    "The canonical machine learning optimization problem is to: \n",
    "> use data to find the parameters of a hypothesis function such that we minimize the output of our loss function.  \n",
    "\n",
    "Or to put it in terms of our graph above and formula $   distance=40∗angle $, we want to change the our line such that it predicts outcomes that as close as possible to the actual observed distances.  Now in this lesson, we were introduced to **training data** a **hypothesis function** and a **loss function**.  In later lessons, we'll go through each of these steps in turn to better understand how machine learning algorithms work."
   ]
  }
 ],
 "metadata": {
  "kernelspec": {
   "display_name": "Python 3",
   "language": "python",
   "name": "python3"
  },
  "language_info": {
   "codemirror_mode": {
    "name": "ipython",
    "version": 3
   },
   "file_extension": ".py",
   "mimetype": "text/x-python",
   "name": "python",
   "nbconvert_exporter": "python",
   "pygments_lexer": "ipython3",
   "version": "3.7.3"
  }
 },
 "nbformat": 4,
 "nbformat_minor": 2
}
